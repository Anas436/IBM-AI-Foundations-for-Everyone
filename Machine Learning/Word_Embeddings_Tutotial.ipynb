{
  "nbformat": 4,
  "nbformat_minor": 0,
  "metadata": {
    "colab": {
      "name": "Word_Embeddings_Tutotial.ipynb",
      "provenance": [],
      "collapsed_sections": []
    },
    "kernelspec": {
      "name": "python2",
      "display_name": "Python 2"
    }
  },
  "cells": [
    {
      "cell_type": "markdown",
      "metadata": {
        "id": "Lev3Td949FN-"
      },
      "source": [
        "# Word Embeddings Tutorial\n",
        "\n",
        "## Author: Sriram Srinivasan,  [Contact](mailto:srsrinivasan@google.com)\n",
        "\n",
        "## Overview\n",
        "Word embeddings are a mapping from strings to vectors in some vector space. The dimensionality of this vector space is usually fixed ahead of time.\n",
        "\n",
        "## Learning word embeddings\n",
        "Typically, word embeddings are learnt through:\n",
        "\n",
        "\n",
        "*   Supervised learning:\n",
        "\n",
        "  Example: Predicting house price from the words in the real estate ad. The embedding layer would be one of the layers that maps strings (words in the ad) to a K-dimensional vector and which in-turn interacts with other layers in the model to finally output a price (scalar). The loss function (Regression) guides the learning of embeddings. In practice, one would need lots of labeled data to learn embeddings that generalize to new real estate ads.\n",
        "  \n",
        "* Unsupervised Learning:\n",
        "\n",
        "  This typically involves language modeling tasks, such as predicting the next word given one or few words preceding it. This method is appealing as it requires no labeled data and large corpus of text is easily available from the internet such as News articles, Wikipedia etc.\n",
        " \n",
        " \n",
        "## Using Pre-trained Word Embeddings\n",
        "In most cases, you'd not require to train word embeddings yourself. There exists a number of pre-trained word embeddings on platforms such as [TF-Hub](https://tfhub.dev/) that can be used directly to solve an ML task. These embeddings were trained largely through Unsupervised learning. \n",
        "\n",
        "This colab will explore how to use such  pre-trained word embeddings."
      ]
    },
    {
      "cell_type": "code",
      "metadata": {
        "id": "r6diQ45e8-NO",
        "cellView": "form"
      },
      "source": [
        "#@title Install TF and TF-Hub.\n",
        "# Install the latest Tensorflow version.\n",
        "!pip3 install --quiet \"tensorflow>=1.7\"\n",
        "# Install TF-Hub.\n",
        "!pip3 install --quiet tensorflow-hub\n",
        "!pip3 install --quiet seaborn"
      ],
      "execution_count": null,
      "outputs": []
    },
    {
      "cell_type": "code",
      "metadata": {
        "id": "PZVD1oIk9Wdm",
        "cellView": "form"
      },
      "source": [
        "#@title Imports.\n",
        "import keras\n",
        "import tensorflow_hub as hub\n",
        "import matplotlib.pyplot as plt\n",
        "import numpy as np\n",
        "import os\n",
        "import pandas as pd\n",
        "import re\n",
        "import seaborn as sns\n",
        "import sklearn\n",
        "from sklearn.metrics import auc\n",
        "from sklearn.metrics import average_precision_score, roc_curve, precision_recall_curve\n",
        "import matplotlib.pyplot as plt\n"
      ],
      "execution_count": null,
      "outputs": []
    },
    {
      "cell_type": "code",
      "metadata": {
        "id": "KFaJyTT09Z-8",
        "cellView": "form"
      },
      "source": [
        "#@title Plotting and visualization functions.\n",
        "def plot_similarity(labels, features, rotation):\n",
        "  corr = np.inner(features, features)\n",
        "  sns.set(font_scale=1.2)\n",
        "  g = sns.heatmap(\n",
        "      corr,\n",
        "      xticklabels=labels,\n",
        "      yticklabels=labels,\n",
        "      vmin=0,\n",
        "      vmax=1,\n",
        "      cmap=\"YlOrRd\")\n",
        "  g.set_xticklabels(labels, rotation=rotation)\n",
        "  g.set_title(\"Semantic Textual Similarity\")\n",
        "\n",
        "\n",
        "def run_and_plot(messages_, message_embeddings_):\n",
        "  plot_similarity(messages_, message_embeddings_, 90)\n",
        "\n",
        "def plot_pr_curve(y_test_values, pred_y_test):\n",
        "  precision, recall, thresholds = precision_recall_curve(y_test_values, pred_y_test)\n",
        "  no_skill = len(y_test_values[y_test_values==1]) / len(y_test_values)\n",
        "  print(\"AUC of the model = {}\".format(auc(recall, precision)))\n",
        "  # for idx in range(len(thresholds)):\n",
        "    # if (thresholds[idx] > 0.4 and thresholds[idx] < 0.5):\n",
        "    #   print(\"threshold = {}, precision = {}, recall = {}\".format(thresholds[idx], precision[idx], recall[idx]))\n",
        "\n",
        "  plt.plot([0, 1], [no_skill, no_skill], linestyle='--', label='Majority Class')\n",
        "  plt.plot(recall, precision, linestyle='--', label='DNN Model')\n",
        "  plt.title(\"Average Precission score: %.3f\" % average_precision_score(y_test_values, pred_y_test))\n",
        "  # axis labels\n",
        "  plt.xlabel('Recall')\n",
        "  plt.ylabel('Precision')\n",
        "  # show the legend\n",
        "  plt.legend()\n",
        "  # show the plot\n",
        "  plt.show()\n"
      ],
      "execution_count": null,
      "outputs": []
    },
    {
      "cell_type": "markdown",
      "metadata": {
        "id": "u6wjtX1f9fQK"
      },
      "source": [
        "## Pre-trained Word Embeddings from TF Hub\n",
        "\n",
        "For this colab, we'll pick between a couple of TF Hub modules that provide embeddings for a sequence of words (full sentence). These sentence embeddings were learnt using multiple tasks including unsupervised learning (generating surrounding sentences in a passage) as well as supervised learning tasks.\n",
        "The visualization examples are from the colab accompanying the module page."
      ]
    },
    {
      "cell_type": "code",
      "metadata": {
        "id": "0AMPwFF89gft"
      },
      "source": [
        "#@title Pick TF Hub Module URL. {run: \"auto\", vertical-output: true, display-mode: \"form\"}\n",
        "module_url = \"https://tfhub.dev/google/universal-sentence-encoder/4\" #@param [\"https://tfhub.dev/google/universal-sentence-encoder/4\", \"https://tfhub.dev/google/tf2-preview/nnlm-en-dim128-with-normalization/1\"]\n",
        "\n",
        "embed = hub.load(module_url)"
      ],
      "execution_count": null,
      "outputs": []
    },
    {
      "cell_type": "code",
      "metadata": {
        "id": "48zlbK2P93CG",
        "colab": {
          "base_uri": "https://localhost:8080/",
          "height": 455
        },
        "outputId": "f6bff166-983b-45a4-da3a-1f2a5377b71b"
      },
      "source": [
        "#@title Visualize Similarity between 2 sentences.\n",
        "messages = [\n",
        "    # Smartphones\n",
        "    \"I like my phone\",\n",
        "    \"My phone is not good.\",\n",
        "    \"Your cellphone looks great.\",\n",
        "\n",
        "    # Places\n",
        "    \"Jayanagar\",\n",
        "    \"Banashankari\",\n",
        "    \"Karol Bagh\",\n",
        "    \n",
        "    # Celebrities\n",
        "    \"Virat Kohli\",\n",
        "    \"Obama\",\n",
        "    \"Einstein\", # :-P\n",
        "\n",
        "]\n",
        "\n",
        "message_embeddings = embed(messages)\n",
        "run_and_plot(messages, message_embeddings)"
      ],
      "execution_count": null,
      "outputs": [
        {
          "output_type": "display_data",
          "data": {
            "text/plain": [
              "<Figure size 432x288 with 2 Axes>"
            ],
            "image/png": "[encoded data removed]"
          },
          "metadata": {}
        }
      ]
    },
    {
      "cell_type": "markdown",
      "metadata": {
        "id": "TUsYVZar9-bz"
      },
      "source": [
        "## Using Pre-trained Word Embeddings for Classification tasks\n",
        "\n",
        "Let's see how well the embeddings from the Universal Sentence Encoder module helps in a classification task. We'll look at the toxic comment classification challenge on Kaggle for this purpose.\n",
        "\n",
        "Note that this module was never trained on this dataset. So, this would be a test of how well the embeddings transfer to unseen language tasks.\n",
        "\n",
        "Kaggle challenge: https://www.kaggle.com/c/jigsaw-toxic-comment-classification-challenge"
      ]
    },
    {
      "cell_type": "code",
      "metadata": {
        "id": "kqgCw5lP9_fb",
        "cellView": "form",
        "colab": {
          "base_uri": "https://localhost:8080/"
        },
        "outputId": "89a30416-1c94-47a3-aa28-7c3ae2895fa4"
      },
      "source": [
        "#@title Import the dataset.\n",
        "# Original data belongs to https://www.kaggle.com/c/jigsaw-toxic-comment-classification-challenge/data\n",
        "! wget https://www.dropbox.com/s/ggl9krhh6dcwhhz/train.csv"
      ],
      "execution_count": null,
      "outputs": [
        {
          "output_type": "stream",
          "name": "stdout",
          "text": [
            "--2022-04-20 07:02:22--  https://www.dropbox.com/s/ggl9krhh6dcwhhz/train.csv\n",
            "Resolving www.dropbox.com (www.dropbox.com)... 162.125.6.18, 2620:100:6019:18::a27d:412\n",
            "Connecting to www.dropbox.com (www.dropbox.com)|162.125.6.18|:443... connected.\n",
            "HTTP request sent, awaiting response... 301 Moved Permanently\n",
            "Location: /s/raw/ggl9krhh6dcwhhz/train.csv [following]\n",
            "--2022-04-20 07:02:22--  https://www.dropbox.com/s/raw/ggl9krhh6dcwhhz/train.csv\n",
            "Reusing existing connection to www.dropbox.com:443.\n",
            "HTTP request sent, awaiting response... 302 Found\n",
            "Location: https://uc9faf946c2637c0d54602c1376a.dl.dropboxusercontent.com/cd/0/inline/BjuqydAmRlkIortwrrwqLahDXeaeJhie5rAdPNilj0srDUSmyEPeUb6lx1gxxhQ6qN-GwrZqunqb1a052rVP2fmnoascqPCXA2UPXp0AgRs3_QPoJIR1J9qzRqBv2-V5IXqBX_s05-bmQbNlk2Ww7oJ1sR7KYWVOjezdp8Z5BTLAlg/file# [following]\n",
            "--2022-04-20 07:02:22--  https://uc9faf946c2637c0d54602c1376a.dl.dropboxusercontent.com/cd/0/inline/BjuqydAmRlkIortwrrwqLahDXeaeJhie5rAdPNilj0srDUSmyEPeUb6lx1gxxhQ6qN-GwrZqunqb1a052rVP2fmnoascqPCXA2UPXp0AgRs3_QPoJIR1J9qzRqBv2-V5IXqBX_s05-bmQbNlk2Ww7oJ1sR7KYWVOjezdp8Z5BTLAlg/file\n",
            "Resolving uc9faf946c2637c0d54602c1376a.dl.dropboxusercontent.com (uc9faf946c2637c0d54602c1376a.dl.dropboxusercontent.com)... 162.125.6.15, 2620:100:6019:15::a27d:40f\n",
            "Connecting to uc9faf946c2637c0d54602c1376a.dl.dropboxusercontent.com (uc9faf946c2637c0d54602c1376a.dl.dropboxusercontent.com)|162.125.6.15|:443... connected.\n",
            "HTTP request sent, awaiting response... 200 OK\n",
            "Length: 68802655 (66M) [text/plain]\n",
            "Saving to: ‘train.csv’\n",
            "\n",
            "train.csv           100%[===================>]  65.62M   150MB/s    in 0.4s    \n",
            "\n",
            "2022-04-20 07:02:23 (150 MB/s) - ‘train.csv’ saved [68802655/68802655]\n",
            "\n"
          ]
        }
      ]
    },
    {
      "cell_type": "code",
      "metadata": {
        "id": "w5q15KbA-EB_",
        "colab": {
          "base_uri": "https://localhost:8080/"
        },
        "outputId": "67e4719f-bbef-43d7-c1a7-3b481d17d711"
      },
      "source": [
        "#@title Check whether the files exist.\n",
        "! ls -ls train.csv"
      ],
      "execution_count": null,
      "outputs": [
        {
          "output_type": "stream",
          "name": "stdout",
          "text": [
            "67192 -rw-r--r-- 1 root root 68802655 Apr 20 07:02 train.csv\n"
          ]
        }
      ]
    },
    {
      "cell_type": "markdown",
      "metadata": {
        "id": "XTNVBW4i-Nvt"
      },
      "source": [
        "### Extract the input and label columns from the dataset.\n",
        "\n",
        "Input: comment_text\n",
        "Label: Toxic"
      ]
    },
    {
      "cell_type": "code",
      "metadata": {
        "id": "yRjj_nJD-I0b"
      },
      "source": [
        "data = pd.read_csv(\"train.csv\")\n",
        "dataset = data[ [\"comment_text\", \"toxic\"] ]"
      ],
      "execution_count": null,
      "outputs": []
    },
    {
      "cell_type": "markdown",
      "metadata": {
        "id": "9JanlUU8-VAE"
      },
      "source": [
        "### Generate a train and validation split from the dataset."
      ]
    },
    {
      "cell_type": "code",
      "metadata": {
        "id": "SYdeMgD9-Rag"
      },
      "source": [
        "# Train / validation split\n",
        "dataset = dataset.sample(frac=1)\n",
        "train_dataset = dataset.head(int(0.8 * len(dataset)))\n",
        "validation_dataset = dataset.tail(int(0.2 * len(dataset)))"
      ],
      "execution_count": null,
      "outputs": []
    },
    {
      "cell_type": "markdown",
      "metadata": {
        "id": "iQfWvjTd-bT9"
      },
      "source": [
        "### Visualize the training and validation samples."
      ]
    },
    {
      "cell_type": "code",
      "metadata": {
        "id": "imBrBccF-YLI",
        "colab": {
          "base_uri": "https://localhost:8080/",
          "height": 300
        },
        "outputId": "4552a636-7595-4697-b5a0-bf4b9c42d48e"
      },
      "source": [
        "train_dataset.describe()"
      ],
      "execution_count": null,
      "outputs": [
        {
          "output_type": "execute_result",
          "data": {
            "text/plain": [
              "               toxic\n",
              "count  127656.000000\n",
              "mean        0.096408\n",
              "std         0.295150\n",
              "min         0.000000\n",
              "25%         0.000000\n",
              "50%         0.000000\n",
              "75%         0.000000\n",
              "max         1.000000"
            ],
            "text/html": [
              "\n",
              "  <div id=\"df-d41e9f20-ca81-484c-bd49-26a797b59a17\">\n",
              "    <div class=\"colab-df-container\">\n",
              "      <div>\n",
              "<style scoped>\n",
              "    .dataframe tbody tr th:only-of-type {\n",
              "        vertical-align: middle;\n",
              "    }\n",
              "\n",
              "    .dataframe tbody tr th {\n",
              "        vertical-align: top;\n",
              "    }\n",
              "\n",
              "    .dataframe thead th {\n",
              "        text-align: right;\n",
              "    }\n",
              "</style>\n",
              "<table border=\"1\" class=\"dataframe\">\n",
              "  <thead>\n",
              "    <tr style=\"text-align: right;\">\n",
              "      <th></th>\n",
              "      <th>toxic</th>\n",
              "    </tr>\n",
              "  </thead>\n",
              "  <tbody>\n",
              "    <tr>\n",
              "      <th>count</th>\n",
              "      <td>127656.000000</td>\n",
              "    </tr>\n",
              "    <tr>\n",
              "      <th>mean</th>\n",
              "      <td>0.096408</td>\n",
              "    </tr>\n",
              "    <tr>\n",
              "      <th>std</th>\n",
              "      <td>0.295150</td>\n",
              "    </tr>\n",
              "    <tr>\n",
              "      <th>min</th>\n",
              "      <td>0.000000</td>\n",
              "    </tr>\n",
              "    <tr>\n",
              "      <th>25%</th>\n",
              "      <td>0.000000</td>\n",
              "    </tr>\n",
              "    <tr>\n",
              "      <th>50%</th>\n",
              "      <td>0.000000</td>\n",
              "    </tr>\n",
              "    <tr>\n",
              "      <th>75%</th>\n",
              "      <td>0.000000</td>\n",
              "    </tr>\n",
              "    <tr>\n",
              "      <th>max</th>\n",
              "      <td>1.000000</td>\n",
              "    </tr>\n",
              "  </tbody>\n",
              "</table>\n",
              "</div>\n",
              "      <button class=\"colab-df-convert\" onclick=\"convertToInteractive('df-d41e9f20-ca81-484c-bd49-26a797b59a17')\"\n",
              "              title=\"Convert this dataframe to an interactive table.\"\n",
              "              style=\"display:none;\">\n",
              "        \n",
              "  <svg xmlns=\"http://www.w3.org/2000/svg\" height=\"24px\"viewBox=\"0 0 24 24\"\n",
              "       width=\"24px\">\n",
              "    <path d=\"M0 0h24v24H0V0z\" fill=\"none\"/>\n",
              "    <path d=\"M18.56 5.44l.94 2.06.94-2.06 2.06-.94-2.06-.94-.94-2.06-.94 2.06-2.06.94zm-11 1L8.5 8.5l.94-2.06 2.06-.94-2.06-.94L8.5 2.5l-.94 2.06-2.06.94zm10 10l.94 2.06.94-2.06 2.06-.94-2.06-.94-.94-2.06-.94 2.06-2.06.94z\"/><path d=\"M17.41 7.96l-1.37-1.37c-.4-.4-.92-.59-1.43-.59-.52 0-1.04.2-1.43.59L10.3 9.45l-7.72 7.72c-.78.78-.78 2.05 0 2.83L4 21.41c.39.39.9.59 1.41.59.51 0 1.02-.2 1.41-.59l7.78-7.78 2.81-2.81c.8-.78.8-2.07 0-2.86zM5.41 20L4 18.59l7.72-7.72 1.47 1.35L5.41 20z\"/>\n",
              "  </svg>\n",
              "      </button>\n",
              "      \n",
              "  <style>\n",
              "    .colab-df-container {\n",
              "      display:flex;\n",
              "      flex-wrap:wrap;\n",
              "      gap: 12px;\n",
              "    }\n",
              "\n",
              "    .colab-df-convert {\n",
              "      background-color: #E8F0FE;\n",
              "      border: none;\n",
              "      border-radius: 50%;\n",
              "      cursor: pointer;\n",
              "      display: none;\n",
              "      fill: #1967D2;\n",
              "      height: 32px;\n",
              "      padding: 0 0 0 0;\n",
              "      width: 32px;\n",
              "    }\n",
              "\n",
              "    .colab-df-convert:hover {\n",
              "      background-color: #E2EBFA;\n",
              "      box-shadow: 0px 1px 2px rgba(60, 64, 67, 0.3), 0px 1px 3px 1px rgba(60, 64, 67, 0.15);\n",
              "      fill: #174EA6;\n",
              "    }\n",
              "\n",
              "    [theme=dark] .colab-df-convert {\n",
              "      background-color: #3B4455;\n",
              "      fill: #D2E3FC;\n",
              "    }\n",
              "\n",
              "    [theme=dark] .colab-df-convert:hover {\n",
              "      background-color: #434B5C;\n",
              "      box-shadow: 0px 1px 3px 1px rgba(0, 0, 0, 0.15);\n",
              "      filter: drop-shadow(0px 1px 2px rgba(0, 0, 0, 0.3));\n",
              "      fill: #FFFFFF;\n",
              "    }\n",
              "  </style>\n",
              "\n",
              "      <script>\n",
              "        const buttonEl =\n",
              "          document.querySelector('#df-d41e9f20-ca81-484c-bd49-26a797b59a17 button.colab-df-convert');\n",
              "        buttonEl.style.display =\n",
              "          google.colab.kernel.accessAllowed ? 'block' : 'none';\n",
              "\n",
              "        async function convertToInteractive(key) {\n",
              "          const element = document.querySelector('#df-d41e9f20-ca81-484c-bd49-26a797b59a17');\n",
              "          const dataTable =\n",
              "            await google.colab.kernel.invokeFunction('convertToInteractive',\n",
              "                                                     [key], {});\n",
              "          if (!dataTable) return;\n",
              "\n",
              "          const docLinkHtml = 'Like what you see? Visit the ' +\n",
              "            '<a target=\"_blank\" href=https://colab.research.google.com/notebooks/data_table.ipynb>data table notebook</a>'\n",
              "            + ' to learn more about interactive tables.';\n",
              "          element.innerHTML = '';\n",
              "          dataTable['output_type'] = 'display_data';\n",
              "          await google.colab.output.renderOutput(dataTable, element);\n",
              "          const docLink = document.createElement('div');\n",
              "          docLink.innerHTML = docLinkHtml;\n",
              "          element.appendChild(docLink);\n",
              "        }\n",
              "      </script>\n",
              "    </div>\n",
              "  </div>\n",
              "  "
            ]
          },
          "metadata": {},
          "execution_count": 16
        }
      ]
    },
    {
      "cell_type": "code",
      "metadata": {
        "id": "l6ELgRbh-fqa",
        "colab": {
          "base_uri": "https://localhost:8080/",
          "height": 300
        },
        "outputId": "4fa2c977-b9a4-486e-f5c6-7a34eb335307"
      },
      "source": [
        "validation_dataset.describe()"
      ],
      "execution_count": null,
      "outputs": [
        {
          "output_type": "execute_result",
          "data": {
            "text/plain": [
              "              toxic\n",
              "count  31914.000000\n",
              "mean       0.093595\n",
              "std        0.291269\n",
              "min        0.000000\n",
              "25%        0.000000\n",
              "50%        0.000000\n",
              "75%        0.000000\n",
              "max        1.000000"
            ],
            "text/html": [
              "\n",
              "  <div id=\"df-d9dfec7a-8a0b-47c1-b64e-cd30414ea6ee\">\n",
              "    <div class=\"colab-df-container\">\n",
              "      <div>\n",
              "<style scoped>\n",
              "    .dataframe tbody tr th:only-of-type {\n",
              "        vertical-align: middle;\n",
              "    }\n",
              "\n",
              "    .dataframe tbody tr th {\n",
              "        vertical-align: top;\n",
              "    }\n",
              "\n",
              "    .dataframe thead th {\n",
              "        text-align: right;\n",
              "    }\n",
              "</style>\n",
              "<table border=\"1\" class=\"dataframe\">\n",
              "  <thead>\n",
              "    <tr style=\"text-align: right;\">\n",
              "      <th></th>\n",
              "      <th>toxic</th>\n",
              "    </tr>\n",
              "  </thead>\n",
              "  <tbody>\n",
              "    <tr>\n",
              "      <th>count</th>\n",
              "      <td>31914.000000</td>\n",
              "    </tr>\n",
              "    <tr>\n",
              "      <th>mean</th>\n",
              "      <td>0.093595</td>\n",
              "    </tr>\n",
              "    <tr>\n",
              "      <th>std</th>\n",
              "      <td>0.291269</td>\n",
              "    </tr>\n",
              "    <tr>\n",
              "      <th>min</th>\n",
              "      <td>0.000000</td>\n",
              "    </tr>\n",
              "    <tr>\n",
              "      <th>25%</th>\n",
              "      <td>0.000000</td>\n",
              "    </tr>\n",
              "    <tr>\n",
              "      <th>50%</th>\n",
              "      <td>0.000000</td>\n",
              "    </tr>\n",
              "    <tr>\n",
              "      <th>75%</th>\n",
              "      <td>0.000000</td>\n",
              "    </tr>\n",
              "    <tr>\n",
              "      <th>max</th>\n",
              "      <td>1.000000</td>\n",
              "    </tr>\n",
              "  </tbody>\n",
              "</table>\n",
              "</div>\n",
              "      <button class=\"colab-df-convert\" onclick=\"convertToInteractive('df-d9dfec7a-8a0b-47c1-b64e-cd30414ea6ee')\"\n",
              "              title=\"Convert this dataframe to an interactive table.\"\n",
              "              style=\"display:none;\">\n",
              "        \n",
              "  <svg xmlns=\"http://www.w3.org/2000/svg\" height=\"24px\"viewBox=\"0 0 24 24\"\n",
              "       width=\"24px\">\n",
              "    <path d=\"M0 0h24v24H0V0z\" fill=\"none\"/>\n",
              "    <path d=\"M18.56 5.44l.94 2.06.94-2.06 2.06-.94-2.06-.94-.94-2.06-.94 2.06-2.06.94zm-11 1L8.5 8.5l.94-2.06 2.06-.94-2.06-.94L8.5 2.5l-.94 2.06-2.06.94zm10 10l.94 2.06.94-2.06 2.06-.94-2.06-.94-.94-2.06-.94 2.06-2.06.94z\"/><path d=\"M17.41 7.96l-1.37-1.37c-.4-.4-.92-.59-1.43-.59-.52 0-1.04.2-1.43.59L10.3 9.45l-7.72 7.72c-.78.78-.78 2.05 0 2.83L4 21.41c.39.39.9.59 1.41.59.51 0 1.02-.2 1.41-.59l7.78-7.78 2.81-2.81c.8-.78.8-2.07 0-2.86zM5.41 20L4 18.59l7.72-7.72 1.47 1.35L5.41 20z\"/>\n",
              "  </svg>\n",
              "      </button>\n",
              "      \n",
              "  <style>\n",
              "    .colab-df-container {\n",
              "      display:flex;\n",
              "      flex-wrap:wrap;\n",
              "      gap: 12px;\n",
              "    }\n",
              "\n",
              "    .colab-df-convert {\n",
              "      background-color: #E8F0FE;\n",
              "      border: none;\n",
              "      border-radius: 50%;\n",
              "      cursor: pointer;\n",
              "      display: none;\n",
              "      fill: #1967D2;\n",
              "      height: 32px;\n",
              "      padding: 0 0 0 0;\n",
              "      width: 32px;\n",
              "    }\n",
              "\n",
              "    .colab-df-convert:hover {\n",
              "      background-color: #E2EBFA;\n",
              "      box-shadow: 0px 1px 2px rgba(60, 64, 67, 0.3), 0px 1px 3px 1px rgba(60, 64, 67, 0.15);\n",
              "      fill: #174EA6;\n",
              "    }\n",
              "\n",
              "    [theme=dark] .colab-df-convert {\n",
              "      background-color: #3B4455;\n",
              "      fill: #D2E3FC;\n",
              "    }\n",
              "\n",
              "    [theme=dark] .colab-df-convert:hover {\n",
              "      background-color: #434B5C;\n",
              "      box-shadow: 0px 1px 3px 1px rgba(0, 0, 0, 0.15);\n",
              "      filter: drop-shadow(0px 1px 2px rgba(0, 0, 0, 0.3));\n",
              "      fill: #FFFFFF;\n",
              "    }\n",
              "  </style>\n",
              "\n",
              "      <script>\n",
              "        const buttonEl =\n",
              "          document.querySelector('#df-d9dfec7a-8a0b-47c1-b64e-cd30414ea6ee button.colab-df-convert');\n",
              "        buttonEl.style.display =\n",
              "          google.colab.kernel.accessAllowed ? 'block' : 'none';\n",
              "\n",
              "        async function convertToInteractive(key) {\n",
              "          const element = document.querySelector('#df-d9dfec7a-8a0b-47c1-b64e-cd30414ea6ee');\n",
              "          const dataTable =\n",
              "            await google.colab.kernel.invokeFunction('convertToInteractive',\n",
              "                                                     [key], {});\n",
              "          if (!dataTable) return;\n",
              "\n",
              "          const docLinkHtml = 'Like what you see? Visit the ' +\n",
              "            '<a target=\"_blank\" href=https://colab.research.google.com/notebooks/data_table.ipynb>data table notebook</a>'\n",
              "            + ' to learn more about interactive tables.';\n",
              "          element.innerHTML = '';\n",
              "          dataTable['output_type'] = 'display_data';\n",
              "          await google.colab.output.renderOutput(dataTable, element);\n",
              "          const docLink = document.createElement('div');\n",
              "          docLink.innerHTML = docLinkHtml;\n",
              "          element.appendChild(docLink);\n",
              "        }\n",
              "      </script>\n",
              "    </div>\n",
              "  </div>\n",
              "  "
            ]
          },
          "metadata": {},
          "execution_count": 17
        }
      ]
    },
    {
      "cell_type": "code",
      "metadata": {
        "id": "Y5BaM_9Z-jjh",
        "colab": {
          "base_uri": "https://localhost:8080/",
          "height": 363
        },
        "outputId": "d3d303f4-4cfe-433e-ce2a-3639d16a7c76"
      },
      "source": [
        "#@title What do the toxic and non-toxic comments look like?\n",
        "sample_non_toxic = train_dataset[train_dataset.toxic == 0].head(5)\n",
        "sample_toxic = train_dataset[train_dataset.toxic == 1].head(5)\n",
        "pd.concat([sample_non_toxic, sample_toxic])"
      ],
      "execution_count": null,
      "outputs": [
        {
          "output_type": "execute_result",
          "data": {
            "text/plain": [
              "                                             comment_text  toxic\n",
              "131186  Changi Air Base\\nHuaiwei, I think we can merge...      0\n",
              "58823   Multiple versions of #11 released from diversi...      0\n",
              "99045   Stop it \\n\\nNo one is block evading. If you re...      0\n",
              "35987   \"\\nLordAmeth once again, many thanks for nomin...      0\n",
              "32979   You talked and You removed his leanings toward...      0\n",
              "121246  What the hell is with everybody making Etna ar...      1\n",
              "147873  Titch why don'tcha shut yer mouth and hang out...      1\n",
              "6773    \"\\nWhat I was saying? You really think that my...      1\n",
              "50932   No, you DIDNT. That's obvious. Now if you want...      1\n",
              "37594   HELLO Liberal MAGGOT Part TWO\\nCensorship will...      1"
            ],
            "text/html": [
              "\n",
              "  <div id=\"df-63508575-8930-4067-b315-8748205bd71b\">\n",
              "    <div class=\"colab-df-container\">\n",
              "      <div>\n",
              "<style scoped>\n",
              "    .dataframe tbody tr th:only-of-type {\n",
              "        vertical-align: middle;\n",
              "    }\n",
              "\n",
              "    .dataframe tbody tr th {\n",
              "        vertical-align: top;\n",
              "    }\n",
              "\n",
              "    .dataframe thead th {\n",
              "        text-align: right;\n",
              "    }\n",
              "</style>\n",
              "<table border=\"1\" class=\"dataframe\">\n",
              "  <thead>\n",
              "    <tr style=\"text-align: right;\">\n",
              "      <th></th>\n",
              "      <th>comment_text</th>\n",
              "      <th>toxic</th>\n",
              "    </tr>\n",
              "  </thead>\n",
              "  <tbody>\n",
              "    <tr>\n",
              "      <th>131186</th>\n",
              "      <td>Changi Air Base\\nHuaiwei, I think we can merge...</td>\n",
              "      <td>0</td>\n",
              "    </tr>\n",
              "    <tr>\n",
              "      <th>58823</th>\n",
              "      <td>Multiple versions of #11 released from diversi...</td>\n",
              "      <td>0</td>\n",
              "    </tr>\n",
              "    <tr>\n",
              "      <th>99045</th>\n",
              "      <td>Stop it \\n\\nNo one is block evading. If you re...</td>\n",
              "      <td>0</td>\n",
              "    </tr>\n",
              "    <tr>\n",
              "      <th>35987</th>\n",
              "      <td>\"\\nLordAmeth once again, many thanks for nomin...</td>\n",
              "      <td>0</td>\n",
              "    </tr>\n",
              "    <tr>\n",
              "      <th>32979</th>\n",
              "      <td>You talked and You removed his leanings toward...</td>\n",
              "      <td>0</td>\n",
              "    </tr>\n",
              "    <tr>\n",
              "      <th>121246</th>\n",
              "      <td>What the hell is with everybody making Etna ar...</td>\n",
              "      <td>1</td>\n",
              "    </tr>\n",
              "    <tr>\n",
              "      <th>147873</th>\n",
              "      <td>Titch why don'tcha shut yer mouth and hang out...</td>\n",
              "      <td>1</td>\n",
              "    </tr>\n",
              "    <tr>\n",
              "      <th>6773</th>\n",
              "      <td>\"\\nWhat I was saying? You really think that my...</td>\n",
              "      <td>1</td>\n",
              "    </tr>\n",
              "    <tr>\n",
              "      <th>50932</th>\n",
              "      <td>No, you DIDNT. That's obvious. Now if you want...</td>\n",
              "      <td>1</td>\n",
              "    </tr>\n",
              "    <tr>\n",
              "      <th>37594</th>\n",
              "      <td>HELLO Liberal MAGGOT Part TWO\\nCensorship will...</td>\n",
              "      <td>1</td>\n",
              "    </tr>\n",
              "  </tbody>\n",
              "</table>\n",
              "</div>\n",
              "      <button class=\"colab-df-convert\" onclick=\"convertToInteractive('df-63508575-8930-4067-b315-8748205bd71b')\"\n",
              "              title=\"Convert this dataframe to an interactive table.\"\n",
              "              style=\"display:none;\">\n",
              "        \n",
              "  <svg xmlns=\"http://www.w3.org/2000/svg\" height=\"24px\"viewBox=\"0 0 24 24\"\n",
              "       width=\"24px\">\n",
              "    <path d=\"M0 0h24v24H0V0z\" fill=\"none\"/>\n",
              "    <path d=\"M18.56 5.44l.94 2.06.94-2.06 2.06-.94-2.06-.94-.94-2.06-.94 2.06-2.06.94zm-11 1L8.5 8.5l.94-2.06 2.06-.94-2.06-.94L8.5 2.5l-.94 2.06-2.06.94zm10 10l.94 2.06.94-2.06 2.06-.94-2.06-.94-.94-2.06-.94 2.06-2.06.94z\"/><path d=\"M17.41 7.96l-1.37-1.37c-.4-.4-.92-.59-1.43-.59-.52 0-1.04.2-1.43.59L10.3 9.45l-7.72 7.72c-.78.78-.78 2.05 0 2.83L4 21.41c.39.39.9.59 1.41.59.51 0 1.02-.2 1.41-.59l7.78-7.78 2.81-2.81c.8-.78.8-2.07 0-2.86zM5.41 20L4 18.59l7.72-7.72 1.47 1.35L5.41 20z\"/>\n",
              "  </svg>\n",
              "      </button>\n",
              "      \n",
              "  <style>\n",
              "    .colab-df-container {\n",
              "      display:flex;\n",
              "      flex-wrap:wrap;\n",
              "      gap: 12px;\n",
              "    }\n",
              "\n",
              "    .colab-df-convert {\n",
              "      background-color: #E8F0FE;\n",
              "      border: none;\n",
              "      border-radius: 50%;\n",
              "      cursor: pointer;\n",
              "      display: none;\n",
              "      fill: #1967D2;\n",
              "      height: 32px;\n",
              "      padding: 0 0 0 0;\n",
              "      width: 32px;\n",
              "    }\n",
              "\n",
              "    .colab-df-convert:hover {\n",
              "      background-color: #E2EBFA;\n",
              "      box-shadow: 0px 1px 2px rgba(60, 64, 67, 0.3), 0px 1px 3px 1px rgba(60, 64, 67, 0.15);\n",
              "      fill: #174EA6;\n",
              "    }\n",
              "\n",
              "    [theme=dark] .colab-df-convert {\n",
              "      background-color: #3B4455;\n",
              "      fill: #D2E3FC;\n",
              "    }\n",
              "\n",
              "    [theme=dark] .colab-df-convert:hover {\n",
              "      background-color: #434B5C;\n",
              "      box-shadow: 0px 1px 3px 1px rgba(0, 0, 0, 0.15);\n",
              "      filter: drop-shadow(0px 1px 2px rgba(0, 0, 0, 0.3));\n",
              "      fill: #FFFFFF;\n",
              "    }\n",
              "  </style>\n",
              "\n",
              "      <script>\n",
              "        const buttonEl =\n",
              "          document.querySelector('#df-63508575-8930-4067-b315-8748205bd71b button.colab-df-convert');\n",
              "        buttonEl.style.display =\n",
              "          google.colab.kernel.accessAllowed ? 'block' : 'none';\n",
              "\n",
              "        async function convertToInteractive(key) {\n",
              "          const element = document.querySelector('#df-63508575-8930-4067-b315-8748205bd71b');\n",
              "          const dataTable =\n",
              "            await google.colab.kernel.invokeFunction('convertToInteractive',\n",
              "                                                     [key], {});\n",
              "          if (!dataTable) return;\n",
              "\n",
              "          const docLinkHtml = 'Like what you see? Visit the ' +\n",
              "            '<a target=\"_blank\" href=https://colab.research.google.com/notebooks/data_table.ipynb>data table notebook</a>'\n",
              "            + ' to learn more about interactive tables.';\n",
              "          element.innerHTML = '';\n",
              "          dataTable['output_type'] = 'display_data';\n",
              "          await google.colab.output.renderOutput(dataTable, element);\n",
              "          const docLink = document.createElement('div');\n",
              "          docLink.innerHTML = docLinkHtml;\n",
              "          element.appendChild(docLink);\n",
              "        }\n",
              "      </script>\n",
              "    </div>\n",
              "  </div>\n",
              "  "
            ]
          },
          "metadata": {},
          "execution_count": 18
        }
      ]
    },
    {
      "cell_type": "code",
      "metadata": {
        "id": "igdwDaqe-mw8"
      },
      "source": [
        "#@title Setup input numpy arrays.\n",
        "x_train = train_dataset[\"comment_text\"].values\n",
        "y_train = np.array(train_dataset[\"toxic\"].values, dtype=np.uint8)\n",
        "x_validation = validation_dataset[\"comment_text\"].values\n",
        "y_validation = np.array(validation_dataset[\"toxic\"].values, dtype=np.uint8)"
      ],
      "execution_count": null,
      "outputs": []
    },
    {
      "cell_type": "code",
      "metadata": {
        "id": "h0qcN9Ut-rLy",
        "colab": {
          "base_uri": "https://localhost:8080/"
        },
        "outputId": "bcce3f95-5205-4c57-e7df-03952c4df662"
      },
      "source": [
        "x_train[:10]"
      ],
      "execution_count": null,
      "outputs": [
        {
          "output_type": "execute_result",
          "data": {
            "text/plain": [
              "array([\"Changi Air Base\\nHuaiwei, I think we can merged Changi Air Base (West) back with Changi Air Base and sub section the (West) part in there for better reference, I know it might look a wee bit confusing but once you read the header and sub section, it is pretty clear and precise. Please don't let me down on this.\",\n",
              "       'Multiple versions of #11 released from diversity of sources \\n\\n http://ia801701.us.archive.org/23/items/Inspire_Magazine/inspire-11.pdf\\n http://archive.org/details/Inspire_Magazine\\n\\nVia Archive.org',\n",
              "       \"Stop it \\n\\nNo one is block evading. If you remove my edit again, which had an official Tweet confirming such an air date,I'll ask for you to be banned.\",\n",
              "       '\"\\nLordAmeth once again, many thanks for nominating me. I have a question, though I noticed that the process was \"\"scheduled to end\"\" at 16:52 today, and we\\'re past that now...what happens next?   \"',\n",
              "       'You talked and You removed his leanings towards Sufism.There is nothing which can be said Unwarranted.Each heading or each line on the Article need not be sourced.Though Article is well sourced.',\n",
              "       '\"\\nThe name of the organization is Partido Comunista del Perú. In Spanish, it is more often called \"\"Sendero Luminoso.\"\" In English, it is more often called \"\"Shining Path.\"\" This is the English Wikipedia so we go with what the organization is most often called in English. 72.83.90.103  \"',\n",
              "       'I will work on filling in the gaps in the history and evolution of the water treatment speding problems in the province of ontario.',\n",
              "       '\"\\n\\nYeah, that\\'s just too much work.►\\'\\'\\'\\'\\'\\'Holla! \"',\n",
              "       'notice for speedy deletion? little guide please ;)',\n",
              "       'Yoruba population and % \\n\\nYoruba population is above 40 million . My reason is base of govt figures. Please visit http://www.nigpost.com to see villages, town and cities in Nigeria. Please Note that that yoruba fall into 9 state. Count the number of villages, town and cities in nigeria and compare this with the yoruba figure of Oyo, ogun, ondo, ekiti, osun, lagos, kwara, Part of Kogi, and part of edo state. You would see that the yoruba have about 40% of the settlement in Nigeria. And when you compare comparison statictics from the office of statictics from radiom sample. The yoruba are 30% of the poulation but because of Hausa/fualni  Military govt, who have alter the census to favour themself.\\nPlease Also download a copy of google earth satellite image and see the satellite image of Nigeria. which show clear that their are more setttlement in Yoruba land than any other part.'],\n",
              "      dtype=object)"
            ]
          },
          "metadata": {},
          "execution_count": 20
        }
      ]
    },
    {
      "cell_type": "code",
      "metadata": {
        "id": "z8zR4Bu6-t2N",
        "colab": {
          "base_uri": "https://localhost:8080/"
        },
        "outputId": "13443a3f-b359-487e-8001-ddb81336b3b5"
      },
      "source": [
        "y_train[:10]"
      ],
      "execution_count": null,
      "outputs": [
        {
          "output_type": "execute_result",
          "data": {
            "text/plain": [
              "array([0, 0, 0, 0, 0, 0, 0, 0, 0, 0], dtype=uint8)"
            ]
          },
          "metadata": {},
          "execution_count": 21
        }
      ]
    },
    {
      "cell_type": "code",
      "metadata": {
        "id": "IEXYo0KL-vaZ",
        "colab": {
          "base_uri": "https://localhost:8080/"
        },
        "outputId": "e0837c98-7f91-4857-f33e-fe0dd8dd196d"
      },
      "source": [
        "#@title A classifier that predicts the majority class.\n",
        "import tensorflow as tf\n",
        "from keras import layers\n",
        "from keras.models import Model\n",
        "from keras import optimizers\n",
        "from keras import metrics\n",
        "\n",
        "input_text = layers.Input(shape=(1,), dtype=tf.string)\n",
        "pred = layers.Lambda(lambda x: tf.zeros((tf.shape(x)[0], 1), dtype=tf.float32))(input_text)\n",
        "model = Model(inputs=[input_text], outputs=pred)\n",
        "model.compile(loss='binary_crossentropy', optimizer='adam', metrics=['accuracy'])\n",
        "model.summary()"
      ],
      "execution_count": null,
      "outputs": [
        {
          "output_type": "stream",
          "name": "stdout",
          "text": [
            "Model: \"model\"\n",
            "_________________________________________________________________\n",
            " Layer (type)                Output Shape              Param #   \n",
            "=================================================================\n",
            " input_1 (InputLayer)        [(None, 1)]               0         \n",
            "                                                                 \n",
            " lambda (Lambda)             (None, 1)                 0         \n",
            "                                                                 \n",
            "=================================================================\n",
            "Total params: 0\n",
            "Trainable params: 0\n",
            "Non-trainable params: 0\n",
            "_________________________________________________________________\n"
          ]
        }
      ]
    },
    {
      "cell_type": "code",
      "metadata": {
        "id": "lTbbJWUb-z00",
        "colab": {
          "base_uri": "https://localhost:8080/"
        },
        "outputId": "646247b3-c1a1-481a-9c88-8aaf76f2966a"
      },
      "source": [
        "#@title Train the model on the dataset.\n",
        "history = model.fit(x_train, y_train, epochs=1, batch_size=32, validation_data=(x_validation, y_validation))"
      ],
      "execution_count": null,
      "outputs": [
        {
          "output_type": "stream",
          "name": "stdout",
          "text": [
            "3990/3990 [==============================] - 21s 5ms/step - loss: 1.4871 - accuracy: 0.9036 - val_loss: 1.4437 - val_accuracy: 0.9064\n"
          ]
        }
      ]
    },
    {
      "cell_type": "markdown",
      "metadata": {
        "id": "GqVFU7oY-5sy"
      },
      "source": [
        "## Let's train a simple linear model to identify toxicity.\n",
        "\n",
        "We'll make use TF Keras API. This allows us to quickly specify the type of model and data to train on and outputs evaluation metrics directly."
      ]
    },
    {
      "cell_type": "code",
      "metadata": {
        "id": "UYHJsn2--2zh",
        "colab": {
          "base_uri": "https://localhost:8080/"
        },
        "outputId": "d597e567-241b-454b-d707-5438e216b264"
      },
      "source": [
        "#@title Create a linear model with a head attached to the sentence embedding layer.\n",
        "\n",
        "def GenerateEmbedding(x):\n",
        "    return embed(tf.squeeze(tf.cast(x, tf.string)))\n",
        "\n",
        "input_text = layers.Input(shape=(1,), dtype=tf.string)\n",
        "embedding = layers.Lambda(GenerateEmbedding)(input_text)\n",
        "pred = layers.Dense(1, activation=tf.nn.sigmoid)(embedding)\n",
        "model = Model(inputs=[input_text], outputs=pred)\n",
        "optimizer = keras.optimizers.adam_v2.Adam(learning_rate=0.001)\n",
        "model.compile(loss='binary_crossentropy', optimizer=optimizer, metrics=['accuracy'])\n",
        "model.summary()"
      ],
      "execution_count": null,
      "outputs": [
        {
          "output_type": "stream",
          "name": "stdout",
          "text": [
            "WARNING:tensorflow:\n",
            "The following Variables were used a Lambda layer's call (lambda_1), but\n",
            "are not present in its tracked objects:\n",
            "  <tf.Variable 'EncoderDNN/DNN/ResidualHidden_3/AdjustDepth/projection/kernel/part_29:0' shape=(10, 512) dtype=float32>\n",
            "  <tf.Variable 'EncoderDNN/DNN/ResidualHidden_3/AdjustDepth/projection/kernel/part_28:0' shape=(10, 512) dtype=float32>\n",
            "  <tf.Variable 'EncoderDNN/DNN/ResidualHidden_3/AdjustDepth/projection/kernel/part_27:0' shape=(10, 512) dtype=float32>\n",
            "  <tf.Variable 'EncoderDNN/DNN/ResidualHidden_3/AdjustDepth/projection/kernel/part_26:0' shape=(10, 512) dtype=float32>\n",
            "  <tf.Variable 'EncoderDNN/DNN/ResidualHidden_3/AdjustDepth/projection/kernel/part_25:0' shape=(10, 512) dtype=float32>\n",
            "  <tf.Variable 'EncoderDNN/DNN/ResidualHidden_3/AdjustDepth/projection/kernel/part_24:0' shape=(10, 512) dtype=float32>\n",
            "  <tf.Variable 'EncoderDNN/DNN/ResidualHidden_3/AdjustDepth/projection/kernel/part_23:0' shape=(10, 512) dtype=float32>\n",
            "  <tf.Variable 'EncoderDNN/DNN/ResidualHidden_3/AdjustDepth/projection/kernel/part_22:0' shape=(10, 512) dtype=float32>\n",
            "  <tf.Variable 'EncoderDNN/DNN/ResidualHidden_3/AdjustDepth/projection/kernel/part_21:0' shape=(10, 512) dtype=float32>\n",
            "  <tf.Variable 'EncoderDNN/DNN/ResidualHidden_3/AdjustDepth/projection/kernel/part_20:0' shape=(10, 512) dtype=float32>\n",
            "  <tf.Variable 'EncoderDNN/DNN/ResidualHidden_3/AdjustDepth/projection/kernel/part_19:0' shape=(11, 512) dtype=float32>\n",
            "  <tf.Variable 'EncoderDNN/DNN/ResidualHidden_3/AdjustDepth/projection/kernel/part_18:0' shape=(11, 512) dtype=float32>\n",
            "  <tf.Variable 'EncoderDNN/DNN/ResidualHidden_3/AdjustDepth/projection/kernel/part_17:0' shape=(11, 512) dtype=float32>\n",
            "  <tf.Variable 'EncoderDNN/DNN/ResidualHidden_3/AdjustDepth/projection/kernel/part_16:0' shape=(11, 512) dtype=float32>\n",
            "  <tf.Variable 'EncoderDNN/DNN/ResidualHidden_3/AdjustDepth/projection/kernel/part_15:0' shape=(11, 512) dtype=float32>\n",
            "  <tf.Variable 'EncoderDNN/DNN/ResidualHidden_3/AdjustDepth/projection/kernel/part_14:0' shape=(11, 512) dtype=float32>\n",
            "  <tf.Variable 'EncoderDNN/DNN/ResidualHidden_3/AdjustDepth/projection/kernel/part_13:0' shape=(11, 512) dtype=float32>\n",
            "  <tf.Variable 'EncoderDNN/DNN/ResidualHidden_3/AdjustDepth/projection/kernel/part_12:0' shape=(11, 512) dtype=float32>\n",
            "  <tf.Variable 'EncoderDNN/DNN/ResidualHidden_3/AdjustDepth/projection/kernel/part_11:0' shape=(11, 512) dtype=float32>\n",
            "  <tf.Variable 'EncoderDNN/DNN/ResidualHidden_3/AdjustDepth/projection/kernel/part_10:0' shape=(11, 512) dtype=float32>\n",
            "  <tf.Variable 'EncoderDNN/DNN/ResidualHidden_3/AdjustDepth/projection/kernel/part_9:0' shape=(11, 512) dtype=float32>\n",
            "  <tf.Variable 'EncoderDNN/DNN/ResidualHidden_3/AdjustDepth/projection/kernel/part_8:0' shape=(11, 512) dtype=float32>\n",
            "  <tf.Variable 'EncoderDNN/DNN/ResidualHidden_3/AdjustDepth/projection/kernel/part_7:0' shape=(11, 512) dtype=float32>\n",
            "  <tf.Variable 'EncoderDNN/DNN/ResidualHidden_3/AdjustDepth/projection/kernel/part_6:0' shape=(11, 512) dtype=float32>\n",
            "  <tf.Variable 'EncoderDNN/DNN/ResidualHidden_3/AdjustDepth/projection/kernel/part_5:0' shape=(11, 512) dtype=float32>\n",
            "  <tf.Variable 'EncoderDNN/DNN/ResidualHidden_3/AdjustDepth/projection/kernel/part_4:0' shape=(11, 512) dtype=float32>\n",
            "  <tf.Variable 'EncoderDNN/DNN/ResidualHidden_3/AdjustDepth/projection/kernel/part_3:0' shape=(11, 512) dtype=float32>\n",
            "  <tf.Variable 'EncoderDNN/DNN/ResidualHidden_3/AdjustDepth/projection/kernel/part_2:0' shape=(11, 512) dtype=float32>\n",
            "  <tf.Variable 'EncoderDNN/DNN/ResidualHidden_3/AdjustDepth/projection/kernel/part_1:0' shape=(11, 512) dtype=float32>\n",
            "  <tf.Variable 'EncoderDNN/DNN/ResidualHidden_3/AdjustDepth/projection/kernel/part_0:0' shape=(11, 512) dtype=float32>\n",
            "  <tf.Variable 'EncoderDNN/DNN/ResidualHidden_3/dense/kernel/part_29:0' shape=(17, 512) dtype=float32>\n",
            "  <tf.Variable 'EncoderDNN/DNN/ResidualHidden_3/dense/kernel/part_28:0' shape=(17, 512) dtype=float32>\n",
            "  <tf.Variable 'EncoderDNN/DNN/ResidualHidden_3/dense/kernel/part_27:0' shape=(17, 512) dtype=float32>\n",
            "  <tf.Variable 'EncoderDNN/DNN/ResidualHidden_3/dense/kernel/part_26:0' shape=(17, 512) dtype=float32>\n",
            "  <tf.Variable 'EncoderDNN/DNN/ResidualHidden_3/dense/kernel/part_25:0' shape=(17, 512) dtype=float32>\n",
            "  <tf.Variable 'EncoderDNN/DNN/ResidualHidden_3/dense/kernel/part_24:0' shape=(17, 512) dtype=float32>\n",
            "  <tf.Variable 'EncoderDNN/DNN/ResidualHidden_3/dense/kernel/part_23:0' shape=(17, 512) dtype=float32>\n",
            "  <tf.Variable 'EncoderDNN/DNN/ResidualHidden_3/dense/kernel/part_22:0' shape=(17, 512) dtype=float32>\n",
            "  <tf.Variable 'EncoderDNN/DNN/ResidualHidden_3/dense/kernel/part_21:0' shape=(17, 512) dtype=float32>\n",
            "  <tf.Variable 'EncoderDNN/DNN/ResidualHidden_3/dense/kernel/part_20:0' shape=(17, 512) dtype=float32>\n",
            "  <tf.Variable 'EncoderDNN/DNN/ResidualHidden_3/dense/kernel/part_19:0' shape=(17, 512) dtype=float32>\n",
            "  <tf.Variable 'EncoderDNN/DNN/ResidualHidden_3/dense/kernel/part_18:0' shape=(17, 512) dtype=float32>\n",
            "  <tf.Variable 'EncoderDNN/DNN/ResidualHidden_3/dense/kernel/part_17:0' shape=(17, 512) dtype=float32>\n",
            "  <tf.Variable 'EncoderDNN/DNN/ResidualHidden_3/dense/kernel/part_16:0' shape=(17, 512) dtype=float32>\n",
            "  <tf.Variable 'EncoderDNN/DNN/ResidualHidden_3/dense/kernel/part_15:0' shape=(17, 512) dtype=float32>\n",
            "  <tf.Variable 'EncoderDNN/DNN/ResidualHidden_3/dense/kernel/part_14:0' shape=(17, 512) dtype=float32>\n",
            "  <tf.Variable 'EncoderDNN/DNN/ResidualHidden_3/dense/kernel/part_13:0' shape=(17, 512) dtype=float32>\n",
            "  <tf.Variable 'EncoderDNN/DNN/ResidualHidden_3/dense/kernel/part_12:0' shape=(17, 512) dtype=float32>\n",
            "  <tf.Variable 'EncoderDNN/DNN/ResidualHidden_3/dense/kernel/part_11:0' shape=(17, 512) dtype=float32>\n",
            "  <tf.Variable 'EncoderDNN/DNN/ResidualHidden_3/dense/kernel/part_10:0' shape=(17, 512) dtype=float32>\n",
            "  <tf.Variable 'EncoderDNN/DNN/ResidualHidden_3/dense/kernel/part_9:0' shape=(17, 512) dtype=float32>\n",
            "  <tf.Variable 'EncoderDNN/DNN/ResidualHidden_3/dense/kernel/part_8:0' shape=(17, 512) dtype=float32>\n",
            "  <tf.Variable 'EncoderDNN/DNN/ResidualHidden_3/dense/kernel/part_7:0' shape=(17, 512) dtype=float32>\n",
            "  <tf.Variable 'EncoderDNN/DNN/ResidualHidden_3/dense/kernel/part_6:0' shape=(17, 512) dtype=float32>\n",
            "  <tf.Variable 'EncoderDNN/DNN/ResidualHidden_3/dense/kernel/part_5:0' shape=(17, 512) dtype=float32>\n",
            "  <tf.Variable 'EncoderDNN/DNN/ResidualHidden_3/dense/kernel/part_4:0' shape=(17, 512) dtype=float32>\n",
            "  <tf.Variable 'EncoderDNN/DNN/ResidualHidden_3/dense/kernel/part_3:0' shape=(17, 512) dtype=float32>\n",
            "  <tf.Variable 'EncoderDNN/DNN/ResidualHidden_3/dense/kernel/part_2:0' shape=(17, 512) dtype=float32>\n",
            "  <tf.Variable 'EncoderDNN/DNN/ResidualHidden_3/dense/kernel/part_1:0' shape=(18, 512) dtype=float32>\n",
            "  <tf.Variable 'EncoderDNN/DNN/ResidualHidden_3/dense/kernel/part_0:0' shape=(18, 512) dtype=float32>\n",
            "  <tf.Variable 'EncoderDNN/DNN/ResidualHidden_2/dense/kernel/part_29:0' shape=(10, 512) dtype=float32>\n",
            "  <tf.Variable 'EncoderDNN/DNN/ResidualHidden_2/dense/kernel/part_28:0' shape=(10, 512) dtype=float32>\n",
            "  <tf.Variable 'EncoderDNN/DNN/ResidualHidden_2/dense/kernel/part_27:0' shape=(10, 512) dtype=float32>\n",
            "  <tf.Variable 'EncoderDNN/DNN/ResidualHidden_2/dense/kernel/part_26:0' shape=(10, 512) dtype=float32>\n",
            "  <tf.Variable 'EncoderDNN/DNN/ResidualHidden_2/dense/kernel/part_25:0' shape=(10, 512) dtype=float32>\n",
            "  <tf.Variable 'EncoderDNN/DNN/ResidualHidden_2/dense/kernel/part_24:0' shape=(10, 512) dtype=float32>\n",
            "  <tf.Variable 'EncoderDNN/DNN/ResidualHidden_2/dense/kernel/part_23:0' shape=(10, 512) dtype=float32>\n",
            "  <tf.Variable 'EncoderDNN/DNN/ResidualHidden_2/dense/kernel/part_22:0' shape=(10, 512) dtype=float32>\n",
            "  <tf.Variable 'EncoderDNN/DNN/ResidualHidden_2/dense/kernel/part_21:0' shape=(10, 512) dtype=float32>\n",
            "  <tf.Variable 'EncoderDNN/DNN/ResidualHidden_2/dense/kernel/part_20:0' shape=(10, 512) dtype=float32>\n",
            "  <tf.Variable 'EncoderDNN/DNN/ResidualHidden_2/dense/kernel/part_19:0' shape=(11, 512) dtype=float32>\n",
            "  <tf.Variable 'EncoderDNN/DNN/ResidualHidden_2/dense/kernel/part_18:0' shape=(11, 512) dtype=float32>\n",
            "  <tf.Variable 'EncoderDNN/DNN/ResidualHidden_2/dense/kernel/part_17:0' shape=(11, 512) dtype=float32>\n",
            "  <tf.Variable 'EncoderDNN/DNN/ResidualHidden_2/dense/kernel/part_16:0' shape=(11, 512) dtype=float32>\n",
            "  <tf.Variable 'EncoderDNN/DNN/ResidualHidden_2/dense/kernel/part_15:0' shape=(11, 512) dtype=float32>\n",
            "  <tf.Variable 'EncoderDNN/DNN/ResidualHidden_2/dense/kernel/part_14:0' shape=(11, 512) dtype=float32>\n",
            "  <tf.Variable 'EncoderDNN/DNN/ResidualHidden_2/dense/kernel/part_13:0' shape=(11, 512) dtype=float32>\n",
            "  <tf.Variable 'EncoderDNN/DNN/ResidualHidden_2/dense/kernel/part_12:0' shape=(11, 512) dtype=float32>\n",
            "  <tf.Variable 'EncoderDNN/DNN/ResidualHidden_2/dense/kernel/part_11:0' shape=(11, 512) dtype=float32>\n",
            "  <tf.Variable 'EncoderDNN/DNN/ResidualHidden_2/dense/kernel/part_10:0' shape=(11, 512) dtype=float32>\n",
            "  <tf.Variable 'EncoderDNN/DNN/ResidualHidden_2/dense/kernel/part_9:0' shape=(11, 512) dtype=float32>\n",
            "  <tf.Variable 'EncoderDNN/DNN/ResidualHidden_2/dense/kernel/part_8:0' shape=(11, 512) dtype=float32>\n",
            "  <tf.Variable 'EncoderDNN/DNN/ResidualHidden_2/dense/kernel/part_7:0' shape=(11, 512) dtype=float32>\n",
            "  <tf.Variable 'EncoderDNN/DNN/ResidualHidden_2/dense/kernel/part_6:0' shape=(11, 512) dtype=float32>\n",
            "  <tf.Variable 'EncoderDNN/DNN/ResidualHidden_2/dense/kernel/part_5:0' shape=(11, 512) dtype=float32>\n",
            "  <tf.Variable 'EncoderDNN/DNN/ResidualHidden_2/dense/kernel/part_4:0' shape=(11, 512) dtype=float32>\n",
            "  <tf.Variable 'EncoderDNN/DNN/ResidualHidden_2/dense/kernel/part_3:0' shape=(11, 512) dtype=float32>\n",
            "  <tf.Variable 'EncoderDNN/DNN/ResidualHidden_2/dense/kernel/part_2:0' shape=(11, 512) dtype=float32>\n",
            "  <tf.Variable 'EncoderDNN/DNN/ResidualHidden_2/dense/kernel/part_1:0' shape=(11, 512) dtype=float32>\n",
            "  <tf.Variable 'EncoderDNN/DNN/ResidualHidden_2/dense/kernel/part_0:0' shape=(11, 512) dtype=float32>\n",
            "  <tf.Variable 'EncoderDNN/DNN/ResidualHidden_1/dense/kernel/part_29:0' shape=(10, 320) dtype=float32>\n",
            "  <tf.Variable 'EncoderDNN/DNN/ResidualHidden_1/dense/kernel/part_28:0' shape=(10, 320) dtype=float32>\n",
            "  <tf.Variable 'EncoderDNN/DNN/ResidualHidden_1/dense/kernel/part_27:0' shape=(10, 320) dtype=float32>\n",
            "  <tf.Variable 'EncoderDNN/DNN/ResidualHidden_1/dense/kernel/part_26:0' shape=(10, 320) dtype=float32>\n",
            "  <tf.Variable 'EncoderDNN/DNN/ResidualHidden_1/dense/kernel/part_25:0' shape=(10, 320) dtype=float32>\n",
            "  <tf.Variable 'EncoderDNN/DNN/ResidualHidden_1/dense/kernel/part_24:0' shape=(10, 320) dtype=float32>\n",
            "  <tf.Variable 'EncoderDNN/DNN/ResidualHidden_1/dense/kernel/part_23:0' shape=(10, 320) dtype=float32>\n",
            "  <tf.Variable 'EncoderDNN/DNN/ResidualHidden_1/dense/kernel/part_22:0' shape=(10, 320) dtype=float32>\n",
            "  <tf.Variable 'EncoderDNN/DNN/ResidualHidden_1/dense/kernel/part_21:0' shape=(10, 320) dtype=float32>\n",
            "  <tf.Variable 'EncoderDNN/DNN/ResidualHidden_1/dense/kernel/part_20:0' shape=(10, 320) dtype=float32>\n",
            "  <tf.Variable 'EncoderDNN/DNN/ResidualHidden_1/dense/kernel/part_19:0' shape=(11, 320) dtype=float32>\n",
            "  <tf.Variable 'EncoderDNN/DNN/ResidualHidden_1/dense/kernel/part_18:0' shape=(11, 320) dtype=float32>\n",
            "  <tf.Variable 'EncoderDNN/DNN/ResidualHidden_1/dense/kernel/part_17:0' shape=(11, 320) dtype=float32>\n",
            "  <tf.Variable 'EncoderDNN/DNN/ResidualHidden_1/dense/kernel/part_16:0' shape=(11, 320) dtype=float32>\n",
            "  <tf.Variable 'EncoderDNN/DNN/ResidualHidden_1/dense/kernel/part_15:0' shape=(11, 320) dtype=float32>\n",
            "  <tf.Variable 'EncoderDNN/DNN/ResidualHidden_1/dense/kernel/part_14:0' shape=(11, 320) dtype=float32>\n",
            "  <tf.Variable 'EncoderDNN/DNN/ResidualHidden_1/dense/kernel/part_13:0' shape=(11, 320) dtype=float32>\n",
            "  <tf.Variable 'EncoderDNN/DNN/ResidualHidden_1/dense/kernel/part_12:0' shape=(11, 320) dtype=float32>\n",
            "  <tf.Variable 'EncoderDNN/DNN/ResidualHidden_1/dense/kernel/part_11:0' shape=(11, 320) dtype=float32>\n",
            "  <tf.Variable 'EncoderDNN/DNN/ResidualHidden_1/dense/kernel/part_10:0' shape=(11, 320) dtype=float32>\n",
            "  <tf.Variable 'EncoderDNN/DNN/ResidualHidden_1/dense/kernel/part_9:0' shape=(11, 320) dtype=float32>\n",
            "  <tf.Variable 'EncoderDNN/DNN/ResidualHidden_1/dense/kernel/part_8:0' shape=(11, 320) dtype=float32>\n",
            "  <tf.Variable 'EncoderDNN/DNN/ResidualHidden_1/dense/kernel/part_7:0' shape=(11, 320) dtype=float32>\n",
            "  <tf.Variable 'EncoderDNN/DNN/ResidualHidden_1/dense/kernel/part_6:0' shape=(11, 320) dtype=float32>\n",
            "  <tf.Variable 'EncoderDNN/DNN/ResidualHidden_1/dense/kernel/part_5:0' shape=(11, 320) dtype=float32>\n",
            "  <tf.Variable 'EncoderDNN/DNN/ResidualHidden_1/dense/kernel/part_4:0' shape=(11, 320) dtype=float32>\n",
            "  <tf.Variable 'EncoderDNN/DNN/ResidualHidden_1/dense/kernel/part_3:0' shape=(11, 320) dtype=float32>\n",
            "  <tf.Variable 'EncoderDNN/DNN/ResidualHidden_1/dense/kernel/part_2:0' shape=(11, 320) dtype=float32>\n",
            "  <tf.Variable 'EncoderDNN/DNN/ResidualHidden_1/dense/kernel/part_1:0' shape=(11, 320) dtype=float32>\n",
            "  <tf.Variable 'EncoderDNN/DNN/ResidualHidden_1/dense/kernel/part_0:0' shape=(11, 320) dtype=float32>\n",
            "  <tf.Variable 'EncoderDNN/DNN/ResidualHidden_0/dense/kernel/part_29:0' shape=(10, 320) dtype=float32>\n",
            "  <tf.Variable 'EncoderDNN/DNN/ResidualHidden_0/dense/kernel/part_28:0' shape=(10, 320) dtype=float32>\n",
            "  <tf.Variable 'EncoderDNN/DNN/ResidualHidden_0/dense/kernel/part_27:0' shape=(10, 320) dtype=float32>\n",
            "  <tf.Variable 'EncoderDNN/DNN/ResidualHidden_0/dense/kernel/part_26:0' shape=(10, 320) dtype=float32>\n",
            "  <tf.Variable 'EncoderDNN/DNN/ResidualHidden_0/dense/kernel/part_25:0' shape=(10, 320) dtype=float32>\n",
            "  <tf.Variable 'EncoderDNN/DNN/ResidualHidden_0/dense/kernel/part_24:0' shape=(10, 320) dtype=float32>\n",
            "  <tf.Variable 'EncoderDNN/DNN/ResidualHidden_0/dense/kernel/part_23:0' shape=(10, 320) dtype=float32>\n",
            "  <tf.Variable 'EncoderDNN/DNN/ResidualHidden_0/dense/kernel/part_22:0' shape=(10, 320) dtype=float32>\n",
            "  <tf.Variable 'EncoderDNN/DNN/ResidualHidden_0/dense/kernel/part_21:0' shape=(10, 320) dtype=float32>\n",
            "  <tf.Variable 'EncoderDNN/DNN/ResidualHidden_0/dense/kernel/part_20:0' shape=(10, 320) dtype=float32>\n",
            "  <tf.Variable 'EncoderDNN/DNN/ResidualHidden_0/dense/kernel/part_19:0' shape=(11, 320) dtype=float32>\n",
            "  <tf.Variable 'EncoderDNN/DNN/ResidualHidden_0/dense/kernel/part_18:0' shape=(11, 320) dtype=float32>\n",
            "  <tf.Variable 'EncoderDNN/DNN/ResidualHidden_0/dense/kernel/part_17:0' shape=(11, 320) dtype=float32>\n",
            "  <tf.Variable 'EncoderDNN/DNN/ResidualHidden_0/dense/kernel/part_16:0' shape=(11, 320) dtype=float32>\n",
            "  <tf.Variable 'EncoderDNN/DNN/ResidualHidden_0/dense/kernel/part_15:0' shape=(11, 320) dtype=float32>\n",
            "  <tf.Variable 'EncoderDNN/DNN/ResidualHidden_0/dense/kernel/part_14:0' shape=(11, 320) dtype=float32>\n",
            "  <tf.Variable 'EncoderDNN/DNN/ResidualHidden_0/dense/kernel/part_13:0' shape=(11, 320) dtype=float32>\n",
            "  <tf.Variable 'EncoderDNN/DNN/ResidualHidden_0/dense/kernel/part_12:0' shape=(11, 320) dtype=float32>\n",
            "  <tf.Variable 'EncoderDNN/DNN/ResidualHidden_0/dense/kernel/part_11:0' shape=(11, 320) dtype=float32>\n",
            "  <tf.Variable 'EncoderDNN/DNN/ResidualHidden_0/dense/kernel/part_10:0' shape=(11, 320) dtype=float32>\n",
            "  <tf.Variable 'EncoderDNN/DNN/ResidualHidden_0/dense/kernel/part_9:0' shape=(11, 320) dtype=float32>\n",
            "  <tf.Variable 'EncoderDNN/DNN/ResidualHidden_0/dense/kernel/part_8:0' shape=(11, 320) dtype=float32>\n",
            "  <tf.Variable 'EncoderDNN/DNN/ResidualHidden_0/dense/kernel/part_7:0' shape=(11, 320) dtype=float32>\n",
            "  <tf.Variable 'EncoderDNN/DNN/ResidualHidden_0/dense/kernel/part_6:0' shape=(11, 320) dtype=float32>\n",
            "  <tf.Variable 'EncoderDNN/DNN/ResidualHidden_0/dense/kernel/part_5:0' shape=(11, 320) dtype=float32>\n",
            "  <tf.Variable 'EncoderDNN/DNN/ResidualHidden_0/dense/kernel/part_4:0' shape=(11, 320) dtype=float32>\n",
            "  <tf.Variable 'EncoderDNN/DNN/ResidualHidden_0/dense/kernel/part_3:0' shape=(11, 320) dtype=float32>\n",
            "  <tf.Variable 'EncoderDNN/DNN/ResidualHidden_0/dense/kernel/part_2:0' shape=(11, 320) dtype=float32>\n",
            "  <tf.Variable 'EncoderDNN/DNN/ResidualHidden_0/dense/kernel/part_1:0' shape=(11, 320) dtype=float32>\n",
            "  <tf.Variable 'EncoderDNN/DNN/ResidualHidden_0/dense/kernel/part_0:0' shape=(11, 320) dtype=float32>\n",
            "  <tf.Variable 'Embeddings/sharded_29:0' shape=(26667, 320) dtype=float32>\n",
            "  <tf.Variable 'Embeddings/sharded_28:0' shape=(26667, 320) dtype=float32>\n",
            "  <tf.Variable 'Embeddings/sharded_27:0' shape=(26667, 320) dtype=float32>\n",
            "  <tf.Variable 'Embeddings/sharded_26:0' shape=(26667, 320) dtype=float32>\n",
            "  <tf.Variable 'Embeddings/sharded_25:0' shape=(26667, 320) dtype=float32>\n",
            "  <tf.Variable 'Embeddings/sharded_24:0' shape=(26667, 320) dtype=float32>\n",
            "  <tf.Variable 'Embeddings/sharded_23:0' shape=(26667, 320) dtype=float32>\n",
            "  <tf.Variable 'Embeddings/sharded_22:0' shape=(26667, 320) dtype=float32>\n",
            "  <tf.Variable 'Embeddings/sharded_21:0' shape=(26667, 320) dtype=float32>\n",
            "  <tf.Variable 'Embeddings/sharded_20:0' shape=(26667, 320) dtype=float32>\n",
            "  <tf.Variable 'Embeddings/sharded_19:0' shape=(26667, 320) dtype=float32>\n",
            "  <tf.Variable 'Embeddings/sharded_18:0' shape=(26667, 320) dtype=float32>\n",
            "  <tf.Variable 'Embeddings/sharded_17:0' shape=(26667, 320) dtype=float32>\n",
            "  <tf.Variable 'Embeddings/sharded_16:0' shape=(26667, 320) dtype=float32>\n",
            "  <tf.Variable 'Embeddings/sharded_15:0' shape=(26667, 320) dtype=float32>\n",
            "  <tf.Variable 'Embeddings/sharded_14:0' shape=(26667, 320) dtype=float32>\n",
            "  <tf.Variable 'Embeddings/sharded_13:0' shape=(26667, 320) dtype=float32>\n",
            "  <tf.Variable 'Embeddings/sharded_12:0' shape=(26667, 320) dtype=float32>\n",
            "  <tf.Variable 'Embeddings/sharded_11:0' shape=(26667, 320) dtype=float32>\n",
            "  <tf.Variable 'Embeddings/sharded_10:0' shape=(26667, 320) dtype=float32>\n",
            "  <tf.Variable 'Embeddings/sharded_9:0' shape=(26667, 320) dtype=float32>\n",
            "  <tf.Variable 'Embeddings/sharded_8:0' shape=(26667, 320) dtype=float32>\n",
            "  <tf.Variable 'Embeddings/sharded_7:0' shape=(26667, 320) dtype=float32>\n",
            "  <tf.Variable 'Embeddings/sharded_6:0' shape=(26667, 320) dtype=float32>\n",
            "  <tf.Variable 'Embeddings/sharded_5:0' shape=(26667, 320) dtype=float32>\n",
            "  <tf.Variable 'Embeddings/sharded_4:0' shape=(26667, 320) dtype=float32>\n",
            "  <tf.Variable 'Embeddings/sharded_3:0' shape=(26667, 320) dtype=float32>\n",
            "  <tf.Variable 'Embeddings/sharded_2:0' shape=(26667, 320) dtype=float32>\n",
            "  <tf.Variable 'Embeddings/sharded_1:0' shape=(26667, 320) dtype=float32>\n",
            "  <tf.Variable 'Embeddings/sharded_0:0' shape=(26667, 320) dtype=float32>\n",
            "It is possible that this is intended behavior, but it is more likely\n",
            "an omission. This is a strong indication that this layer should be\n",
            "formulated as a subclassed Layer rather than a Lambda layer.\n"
          ]
        },
        {
          "output_type": "stream",
          "name": "stderr",
          "text": [
            "WARNING:tensorflow:\n",
            "The following Variables were used a Lambda layer's call (lambda_1), but\n",
            "are not present in its tracked objects:\n",
            "  <tf.Variable 'EncoderDNN/DNN/ResidualHidden_3/AdjustDepth/projection/kernel/part_29:0' shape=(10, 512) dtype=float32>\n",
            "  <tf.Variable 'EncoderDNN/DNN/ResidualHidden_3/AdjustDepth/projection/kernel/part_28:0' shape=(10, 512) dtype=float32>\n",
            "  <tf.Variable 'EncoderDNN/DNN/ResidualHidden_3/AdjustDepth/projection/kernel/part_27:0' shape=(10, 512) dtype=float32>\n",
            "  <tf.Variable 'EncoderDNN/DNN/ResidualHidden_3/AdjustDepth/projection/kernel/part_26:0' shape=(10, 512) dtype=float32>\n",
            "  <tf.Variable 'EncoderDNN/DNN/ResidualHidden_3/AdjustDepth/projection/kernel/part_25:0' shape=(10, 512) dtype=float32>\n",
            "  <tf.Variable 'EncoderDNN/DNN/ResidualHidden_3/AdjustDepth/projection/kernel/part_24:0' shape=(10, 512) dtype=float32>\n",
            "  <tf.Variable 'EncoderDNN/DNN/ResidualHidden_3/AdjustDepth/projection/kernel/part_23:0' shape=(10, 512) dtype=float32>\n",
            "  <tf.Variable 'EncoderDNN/DNN/ResidualHidden_3/AdjustDepth/projection/kernel/part_22:0' shape=(10, 512) dtype=float32>\n",
            "  <tf.Variable 'EncoderDNN/DNN/ResidualHidden_3/AdjustDepth/projection/kernel/part_21:0' shape=(10, 512) dtype=float32>\n",
            "  <tf.Variable 'EncoderDNN/DNN/ResidualHidden_3/AdjustDepth/projection/kernel/part_20:0' shape=(10, 512) dtype=float32>\n",
            "  <tf.Variable 'EncoderDNN/DNN/ResidualHidden_3/AdjustDepth/projection/kernel/part_19:0' shape=(11, 512) dtype=float32>\n",
            "  <tf.Variable 'EncoderDNN/DNN/ResidualHidden_3/AdjustDepth/projection/kernel/part_18:0' shape=(11, 512) dtype=float32>\n",
            "  <tf.Variable 'EncoderDNN/DNN/ResidualHidden_3/AdjustDepth/projection/kernel/part_17:0' shape=(11, 512) dtype=float32>\n",
            "  <tf.Variable 'EncoderDNN/DNN/ResidualHidden_3/AdjustDepth/projection/kernel/part_16:0' shape=(11, 512) dtype=float32>\n",
            "  <tf.Variable 'EncoderDNN/DNN/ResidualHidden_3/AdjustDepth/projection/kernel/part_15:0' shape=(11, 512) dtype=float32>\n",
            "  <tf.Variable 'EncoderDNN/DNN/ResidualHidden_3/AdjustDepth/projection/kernel/part_14:0' shape=(11, 512) dtype=float32>\n",
            "  <tf.Variable 'EncoderDNN/DNN/ResidualHidden_3/AdjustDepth/projection/kernel/part_13:0' shape=(11, 512) dtype=float32>\n",
            "  <tf.Variable 'EncoderDNN/DNN/ResidualHidden_3/AdjustDepth/projection/kernel/part_12:0' shape=(11, 512) dtype=float32>\n",
            "  <tf.Variable 'EncoderDNN/DNN/ResidualHidden_3/AdjustDepth/projection/kernel/part_11:0' shape=(11, 512) dtype=float32>\n",
            "  <tf.Variable 'EncoderDNN/DNN/ResidualHidden_3/AdjustDepth/projection/kernel/part_10:0' shape=(11, 512) dtype=float32>\n",
            "  <tf.Variable 'EncoderDNN/DNN/ResidualHidden_3/AdjustDepth/projection/kernel/part_9:0' shape=(11, 512) dtype=float32>\n",
            "  <tf.Variable 'EncoderDNN/DNN/ResidualHidden_3/AdjustDepth/projection/kernel/part_8:0' shape=(11, 512) dtype=float32>\n",
            "  <tf.Variable 'EncoderDNN/DNN/ResidualHidden_3/AdjustDepth/projection/kernel/part_7:0' shape=(11, 512) dtype=float32>\n",
            "  <tf.Variable 'EncoderDNN/DNN/ResidualHidden_3/AdjustDepth/projection/kernel/part_6:0' shape=(11, 512) dtype=float32>\n",
            "  <tf.Variable 'EncoderDNN/DNN/ResidualHidden_3/AdjustDepth/projection/kernel/part_5:0' shape=(11, 512) dtype=float32>\n",
            "  <tf.Variable 'EncoderDNN/DNN/ResidualHidden_3/AdjustDepth/projection/kernel/part_4:0' shape=(11, 512) dtype=float32>\n",
            "  <tf.Variable 'EncoderDNN/DNN/ResidualHidden_3/AdjustDepth/projection/kernel/part_3:0' shape=(11, 512) dtype=float32>\n",
            "  <tf.Variable 'EncoderDNN/DNN/ResidualHidden_3/AdjustDepth/projection/kernel/part_2:0' shape=(11, 512) dtype=float32>\n",
            "  <tf.Variable 'EncoderDNN/DNN/ResidualHidden_3/AdjustDepth/projection/kernel/part_1:0' shape=(11, 512) dtype=float32>\n",
            "  <tf.Variable 'EncoderDNN/DNN/ResidualHidden_3/AdjustDepth/projection/kernel/part_0:0' shape=(11, 512) dtype=float32>\n",
            "  <tf.Variable 'EncoderDNN/DNN/ResidualHidden_3/dense/kernel/part_29:0' shape=(17, 512) dtype=float32>\n",
            "  <tf.Variable 'EncoderDNN/DNN/ResidualHidden_3/dense/kernel/part_28:0' shape=(17, 512) dtype=float32>\n",
            "  <tf.Variable 'EncoderDNN/DNN/ResidualHidden_3/dense/kernel/part_27:0' shape=(17, 512) dtype=float32>\n",
            "  <tf.Variable 'EncoderDNN/DNN/ResidualHidden_3/dense/kernel/part_26:0' shape=(17, 512) dtype=float32>\n",
            "  <tf.Variable 'EncoderDNN/DNN/ResidualHidden_3/dense/kernel/part_25:0' shape=(17, 512) dtype=float32>\n",
            "  <tf.Variable 'EncoderDNN/DNN/ResidualHidden_3/dense/kernel/part_24:0' shape=(17, 512) dtype=float32>\n",
            "  <tf.Variable 'EncoderDNN/DNN/ResidualHidden_3/dense/kernel/part_23:0' shape=(17, 512) dtype=float32>\n",
            "  <tf.Variable 'EncoderDNN/DNN/ResidualHidden_3/dense/kernel/part_22:0' shape=(17, 512) dtype=float32>\n",
            "  <tf.Variable 'EncoderDNN/DNN/ResidualHidden_3/dense/kernel/part_21:0' shape=(17, 512) dtype=float32>\n",
            "  <tf.Variable 'EncoderDNN/DNN/ResidualHidden_3/dense/kernel/part_20:0' shape=(17, 512) dtype=float32>\n",
            "  <tf.Variable 'EncoderDNN/DNN/ResidualHidden_3/dense/kernel/part_19:0' shape=(17, 512) dtype=float32>\n",
            "  <tf.Variable 'EncoderDNN/DNN/ResidualHidden_3/dense/kernel/part_18:0' shape=(17, 512) dtype=float32>\n",
            "  <tf.Variable 'EncoderDNN/DNN/ResidualHidden_3/dense/kernel/part_17:0' shape=(17, 512) dtype=float32>\n",
            "  <tf.Variable 'EncoderDNN/DNN/ResidualHidden_3/dense/kernel/part_16:0' shape=(17, 512) dtype=float32>\n",
            "  <tf.Variable 'EncoderDNN/DNN/ResidualHidden_3/dense/kernel/part_15:0' shape=(17, 512) dtype=float32>\n",
            "  <tf.Variable 'EncoderDNN/DNN/ResidualHidden_3/dense/kernel/part_14:0' shape=(17, 512) dtype=float32>\n",
            "  <tf.Variable 'EncoderDNN/DNN/ResidualHidden_3/dense/kernel/part_13:0' shape=(17, 512) dtype=float32>\n",
            "  <tf.Variable 'EncoderDNN/DNN/ResidualHidden_3/dense/kernel/part_12:0' shape=(17, 512) dtype=float32>\n",
            "  <tf.Variable 'EncoderDNN/DNN/ResidualHidden_3/dense/kernel/part_11:0' shape=(17, 512) dtype=float32>\n",
            "  <tf.Variable 'EncoderDNN/DNN/ResidualHidden_3/dense/kernel/part_10:0' shape=(17, 512) dtype=float32>\n",
            "  <tf.Variable 'EncoderDNN/DNN/ResidualHidden_3/dense/kernel/part_9:0' shape=(17, 512) dtype=float32>\n",
            "  <tf.Variable 'EncoderDNN/DNN/ResidualHidden_3/dense/kernel/part_8:0' shape=(17, 512) dtype=float32>\n",
            "  <tf.Variable 'EncoderDNN/DNN/ResidualHidden_3/dense/kernel/part_7:0' shape=(17, 512) dtype=float32>\n",
            "  <tf.Variable 'EncoderDNN/DNN/ResidualHidden_3/dense/kernel/part_6:0' shape=(17, 512) dtype=float32>\n",
            "  <tf.Variable 'EncoderDNN/DNN/ResidualHidden_3/dense/kernel/part_5:0' shape=(17, 512) dtype=float32>\n",
            "  <tf.Variable 'EncoderDNN/DNN/ResidualHidden_3/dense/kernel/part_4:0' shape=(17, 512) dtype=float32>\n",
            "  <tf.Variable 'EncoderDNN/DNN/ResidualHidden_3/dense/kernel/part_3:0' shape=(17, 512) dtype=float32>\n",
            "  <tf.Variable 'EncoderDNN/DNN/ResidualHidden_3/dense/kernel/part_2:0' shape=(17, 512) dtype=float32>\n",
            "  <tf.Variable 'EncoderDNN/DNN/ResidualHidden_3/dense/kernel/part_1:0' shape=(18, 512) dtype=float32>\n",
            "  <tf.Variable 'EncoderDNN/DNN/ResidualHidden_3/dense/kernel/part_0:0' shape=(18, 512) dtype=float32>\n",
            "  <tf.Variable 'EncoderDNN/DNN/ResidualHidden_2/dense/kernel/part_29:0' shape=(10, 512) dtype=float32>\n",
            "  <tf.Variable 'EncoderDNN/DNN/ResidualHidden_2/dense/kernel/part_28:0' shape=(10, 512) dtype=float32>\n",
            "  <tf.Variable 'EncoderDNN/DNN/ResidualHidden_2/dense/kernel/part_27:0' shape=(10, 512) dtype=float32>\n",
            "  <tf.Variable 'EncoderDNN/DNN/ResidualHidden_2/dense/kernel/part_26:0' shape=(10, 512) dtype=float32>\n",
            "  <tf.Variable 'EncoderDNN/DNN/ResidualHidden_2/dense/kernel/part_25:0' shape=(10, 512) dtype=float32>\n",
            "  <tf.Variable 'EncoderDNN/DNN/ResidualHidden_2/dense/kernel/part_24:0' shape=(10, 512) dtype=float32>\n",
            "  <tf.Variable 'EncoderDNN/DNN/ResidualHidden_2/dense/kernel/part_23:0' shape=(10, 512) dtype=float32>\n",
            "  <tf.Variable 'EncoderDNN/DNN/ResidualHidden_2/dense/kernel/part_22:0' shape=(10, 512) dtype=float32>\n",
            "  <tf.Variable 'EncoderDNN/DNN/ResidualHidden_2/dense/kernel/part_21:0' shape=(10, 512) dtype=float32>\n",
            "  <tf.Variable 'EncoderDNN/DNN/ResidualHidden_2/dense/kernel/part_20:0' shape=(10, 512) dtype=float32>\n",
            "  <tf.Variable 'EncoderDNN/DNN/ResidualHidden_2/dense/kernel/part_19:0' shape=(11, 512) dtype=float32>\n",
            "  <tf.Variable 'EncoderDNN/DNN/ResidualHidden_2/dense/kernel/part_18:0' shape=(11, 512) dtype=float32>\n",
            "  <tf.Variable 'EncoderDNN/DNN/ResidualHidden_2/dense/kernel/part_17:0' shape=(11, 512) dtype=float32>\n",
            "  <tf.Variable 'EncoderDNN/DNN/ResidualHidden_2/dense/kernel/part_16:0' shape=(11, 512) dtype=float32>\n",
            "  <tf.Variable 'EncoderDNN/DNN/ResidualHidden_2/dense/kernel/part_15:0' shape=(11, 512) dtype=float32>\n",
            "  <tf.Variable 'EncoderDNN/DNN/ResidualHidden_2/dense/kernel/part_14:0' shape=(11, 512) dtype=float32>\n",
            "  <tf.Variable 'EncoderDNN/DNN/ResidualHidden_2/dense/kernel/part_13:0' shape=(11, 512) dtype=float32>\n",
            "  <tf.Variable 'EncoderDNN/DNN/ResidualHidden_2/dense/kernel/part_12:0' shape=(11, 512) dtype=float32>\n",
            "  <tf.Variable 'EncoderDNN/DNN/ResidualHidden_2/dense/kernel/part_11:0' shape=(11, 512) dtype=float32>\n",
            "  <tf.Variable 'EncoderDNN/DNN/ResidualHidden_2/dense/kernel/part_10:0' shape=(11, 512) dtype=float32>\n",
            "  <tf.Variable 'EncoderDNN/DNN/ResidualHidden_2/dense/kernel/part_9:0' shape=(11, 512) dtype=float32>\n",
            "  <tf.Variable 'EncoderDNN/DNN/ResidualHidden_2/dense/kernel/part_8:0' shape=(11, 512) dtype=float32>\n",
            "  <tf.Variable 'EncoderDNN/DNN/ResidualHidden_2/dense/kernel/part_7:0' shape=(11, 512) dtype=float32>\n",
            "  <tf.Variable 'EncoderDNN/DNN/ResidualHidden_2/dense/kernel/part_6:0' shape=(11, 512) dtype=float32>\n",
            "  <tf.Variable 'EncoderDNN/DNN/ResidualHidden_2/dense/kernel/part_5:0' shape=(11, 512) dtype=float32>\n",
            "  <tf.Variable 'EncoderDNN/DNN/ResidualHidden_2/dense/kernel/part_4:0' shape=(11, 512) dtype=float32>\n",
            "  <tf.Variable 'EncoderDNN/DNN/ResidualHidden_2/dense/kernel/part_3:0' shape=(11, 512) dtype=float32>\n",
            "  <tf.Variable 'EncoderDNN/DNN/ResidualHidden_2/dense/kernel/part_2:0' shape=(11, 512) dtype=float32>\n",
            "  <tf.Variable 'EncoderDNN/DNN/ResidualHidden_2/dense/kernel/part_1:0' shape=(11, 512) dtype=float32>\n",
            "  <tf.Variable 'EncoderDNN/DNN/ResidualHidden_2/dense/kernel/part_0:0' shape=(11, 512) dtype=float32>\n",
            "  <tf.Variable 'EncoderDNN/DNN/ResidualHidden_1/dense/kernel/part_29:0' shape=(10, 320) dtype=float32>\n",
            "  <tf.Variable 'EncoderDNN/DNN/ResidualHidden_1/dense/kernel/part_28:0' shape=(10, 320) dtype=float32>\n",
            "  <tf.Variable 'EncoderDNN/DNN/ResidualHidden_1/dense/kernel/part_27:0' shape=(10, 320) dtype=float32>\n",
            "  <tf.Variable 'EncoderDNN/DNN/ResidualHidden_1/dense/kernel/part_26:0' shape=(10, 320) dtype=float32>\n",
            "  <tf.Variable 'EncoderDNN/DNN/ResidualHidden_1/dense/kernel/part_25:0' shape=(10, 320) dtype=float32>\n",
            "  <tf.Variable 'EncoderDNN/DNN/ResidualHidden_1/dense/kernel/part_24:0' shape=(10, 320) dtype=float32>\n",
            "  <tf.Variable 'EncoderDNN/DNN/ResidualHidden_1/dense/kernel/part_23:0' shape=(10, 320) dtype=float32>\n",
            "  <tf.Variable 'EncoderDNN/DNN/ResidualHidden_1/dense/kernel/part_22:0' shape=(10, 320) dtype=float32>\n",
            "  <tf.Variable 'EncoderDNN/DNN/ResidualHidden_1/dense/kernel/part_21:0' shape=(10, 320) dtype=float32>\n",
            "  <tf.Variable 'EncoderDNN/DNN/ResidualHidden_1/dense/kernel/part_20:0' shape=(10, 320) dtype=float32>\n",
            "  <tf.Variable 'EncoderDNN/DNN/ResidualHidden_1/dense/kernel/part_19:0' shape=(11, 320) dtype=float32>\n",
            "  <tf.Variable 'EncoderDNN/DNN/ResidualHidden_1/dense/kernel/part_18:0' shape=(11, 320) dtype=float32>\n",
            "  <tf.Variable 'EncoderDNN/DNN/ResidualHidden_1/dense/kernel/part_17:0' shape=(11, 320) dtype=float32>\n",
            "  <tf.Variable 'EncoderDNN/DNN/ResidualHidden_1/dense/kernel/part_16:0' shape=(11, 320) dtype=float32>\n",
            "  <tf.Variable 'EncoderDNN/DNN/ResidualHidden_1/dense/kernel/part_15:0' shape=(11, 320) dtype=float32>\n",
            "  <tf.Variable 'EncoderDNN/DNN/ResidualHidden_1/dense/kernel/part_14:0' shape=(11, 320) dtype=float32>\n",
            "  <tf.Variable 'EncoderDNN/DNN/ResidualHidden_1/dense/kernel/part_13:0' shape=(11, 320) dtype=float32>\n",
            "  <tf.Variable 'EncoderDNN/DNN/ResidualHidden_1/dense/kernel/part_12:0' shape=(11, 320) dtype=float32>\n",
            "  <tf.Variable 'EncoderDNN/DNN/ResidualHidden_1/dense/kernel/part_11:0' shape=(11, 320) dtype=float32>\n",
            "  <tf.Variable 'EncoderDNN/DNN/ResidualHidden_1/dense/kernel/part_10:0' shape=(11, 320) dtype=float32>\n",
            "  <tf.Variable 'EncoderDNN/DNN/ResidualHidden_1/dense/kernel/part_9:0' shape=(11, 320) dtype=float32>\n",
            "  <tf.Variable 'EncoderDNN/DNN/ResidualHidden_1/dense/kernel/part_8:0' shape=(11, 320) dtype=float32>\n",
            "  <tf.Variable 'EncoderDNN/DNN/ResidualHidden_1/dense/kernel/part_7:0' shape=(11, 320) dtype=float32>\n",
            "  <tf.Variable 'EncoderDNN/DNN/ResidualHidden_1/dense/kernel/part_6:0' shape=(11, 320) dtype=float32>\n",
            "  <tf.Variable 'EncoderDNN/DNN/ResidualHidden_1/dense/kernel/part_5:0' shape=(11, 320) dtype=float32>\n",
            "  <tf.Variable 'EncoderDNN/DNN/ResidualHidden_1/dense/kernel/part_4:0' shape=(11, 320) dtype=float32>\n",
            "  <tf.Variable 'EncoderDNN/DNN/ResidualHidden_1/dense/kernel/part_3:0' shape=(11, 320) dtype=float32>\n",
            "  <tf.Variable 'EncoderDNN/DNN/ResidualHidden_1/dense/kernel/part_2:0' shape=(11, 320) dtype=float32>\n",
            "  <tf.Variable 'EncoderDNN/DNN/ResidualHidden_1/dense/kernel/part_1:0' shape=(11, 320) dtype=float32>\n",
            "  <tf.Variable 'EncoderDNN/DNN/ResidualHidden_1/dense/kernel/part_0:0' shape=(11, 320) dtype=float32>\n",
            "  <tf.Variable 'EncoderDNN/DNN/ResidualHidden_0/dense/kernel/part_29:0' shape=(10, 320) dtype=float32>\n",
            "  <tf.Variable 'EncoderDNN/DNN/ResidualHidden_0/dense/kernel/part_28:0' shape=(10, 320) dtype=float32>\n",
            "  <tf.Variable 'EncoderDNN/DNN/ResidualHidden_0/dense/kernel/part_27:0' shape=(10, 320) dtype=float32>\n",
            "  <tf.Variable 'EncoderDNN/DNN/ResidualHidden_0/dense/kernel/part_26:0' shape=(10, 320) dtype=float32>\n",
            "  <tf.Variable 'EncoderDNN/DNN/ResidualHidden_0/dense/kernel/part_25:0' shape=(10, 320) dtype=float32>\n",
            "  <tf.Variable 'EncoderDNN/DNN/ResidualHidden_0/dense/kernel/part_24:0' shape=(10, 320) dtype=float32>\n",
            "  <tf.Variable 'EncoderDNN/DNN/ResidualHidden_0/dense/kernel/part_23:0' shape=(10, 320) dtype=float32>\n",
            "  <tf.Variable 'EncoderDNN/DNN/ResidualHidden_0/dense/kernel/part_22:0' shape=(10, 320) dtype=float32>\n",
            "  <tf.Variable 'EncoderDNN/DNN/ResidualHidden_0/dense/kernel/part_21:0' shape=(10, 320) dtype=float32>\n",
            "  <tf.Variable 'EncoderDNN/DNN/ResidualHidden_0/dense/kernel/part_20:0' shape=(10, 320) dtype=float32>\n",
            "  <tf.Variable 'EncoderDNN/DNN/ResidualHidden_0/dense/kernel/part_19:0' shape=(11, 320) dtype=float32>\n",
            "  <tf.Variable 'EncoderDNN/DNN/ResidualHidden_0/dense/kernel/part_18:0' shape=(11, 320) dtype=float32>\n",
            "  <tf.Variable 'EncoderDNN/DNN/ResidualHidden_0/dense/kernel/part_17:0' shape=(11, 320) dtype=float32>\n",
            "  <tf.Variable 'EncoderDNN/DNN/ResidualHidden_0/dense/kernel/part_16:0' shape=(11, 320) dtype=float32>\n",
            "  <tf.Variable 'EncoderDNN/DNN/ResidualHidden_0/dense/kernel/part_15:0' shape=(11, 320) dtype=float32>\n",
            "  <tf.Variable 'EncoderDNN/DNN/ResidualHidden_0/dense/kernel/part_14:0' shape=(11, 320) dtype=float32>\n",
            "  <tf.Variable 'EncoderDNN/DNN/ResidualHidden_0/dense/kernel/part_13:0' shape=(11, 320) dtype=float32>\n",
            "  <tf.Variable 'EncoderDNN/DNN/ResidualHidden_0/dense/kernel/part_12:0' shape=(11, 320) dtype=float32>\n",
            "  <tf.Variable 'EncoderDNN/DNN/ResidualHidden_0/dense/kernel/part_11:0' shape=(11, 320) dtype=float32>\n",
            "  <tf.Variable 'EncoderDNN/DNN/ResidualHidden_0/dense/kernel/part_10:0' shape=(11, 320) dtype=float32>\n",
            "  <tf.Variable 'EncoderDNN/DNN/ResidualHidden_0/dense/kernel/part_9:0' shape=(11, 320) dtype=float32>\n",
            "  <tf.Variable 'EncoderDNN/DNN/ResidualHidden_0/dense/kernel/part_8:0' shape=(11, 320) dtype=float32>\n",
            "  <tf.Variable 'EncoderDNN/DNN/ResidualHidden_0/dense/kernel/part_7:0' shape=(11, 320) dtype=float32>\n",
            "  <tf.Variable 'EncoderDNN/DNN/ResidualHidden_0/dense/kernel/part_6:0' shape=(11, 320) dtype=float32>\n",
            "  <tf.Variable 'EncoderDNN/DNN/ResidualHidden_0/dense/kernel/part_5:0' shape=(11, 320) dtype=float32>\n",
            "  <tf.Variable 'EncoderDNN/DNN/ResidualHidden_0/dense/kernel/part_4:0' shape=(11, 320) dtype=float32>\n",
            "  <tf.Variable 'EncoderDNN/DNN/ResidualHidden_0/dense/kernel/part_3:0' shape=(11, 320) dtype=float32>\n",
            "  <tf.Variable 'EncoderDNN/DNN/ResidualHidden_0/dense/kernel/part_2:0' shape=(11, 320) dtype=float32>\n",
            "  <tf.Variable 'EncoderDNN/DNN/ResidualHidden_0/dense/kernel/part_1:0' shape=(11, 320) dtype=float32>\n",
            "  <tf.Variable 'EncoderDNN/DNN/ResidualHidden_0/dense/kernel/part_0:0' shape=(11, 320) dtype=float32>\n",
            "  <tf.Variable 'Embeddings/sharded_29:0' shape=(26667, 320) dtype=float32>\n",
            "  <tf.Variable 'Embeddings/sharded_28:0' shape=(26667, 320) dtype=float32>\n",
            "  <tf.Variable 'Embeddings/sharded_27:0' shape=(26667, 320) dtype=float32>\n",
            "  <tf.Variable 'Embeddings/sharded_26:0' shape=(26667, 320) dtype=float32>\n",
            "  <tf.Variable 'Embeddings/sharded_25:0' shape=(26667, 320) dtype=float32>\n",
            "  <tf.Variable 'Embeddings/sharded_24:0' shape=(26667, 320) dtype=float32>\n",
            "  <tf.Variable 'Embeddings/sharded_23:0' shape=(26667, 320) dtype=float32>\n",
            "  <tf.Variable 'Embeddings/sharded_22:0' shape=(26667, 320) dtype=float32>\n",
            "  <tf.Variable 'Embeddings/sharded_21:0' shape=(26667, 320) dtype=float32>\n",
            "  <tf.Variable 'Embeddings/sharded_20:0' shape=(26667, 320) dtype=float32>\n",
            "  <tf.Variable 'Embeddings/sharded_19:0' shape=(26667, 320) dtype=float32>\n",
            "  <tf.Variable 'Embeddings/sharded_18:0' shape=(26667, 320) dtype=float32>\n",
            "  <tf.Variable 'Embeddings/sharded_17:0' shape=(26667, 320) dtype=float32>\n",
            "  <tf.Variable 'Embeddings/sharded_16:0' shape=(26667, 320) dtype=float32>\n",
            "  <tf.Variable 'Embeddings/sharded_15:0' shape=(26667, 320) dtype=float32>\n",
            "  <tf.Variable 'Embeddings/sharded_14:0' shape=(26667, 320) dtype=float32>\n",
            "  <tf.Variable 'Embeddings/sharded_13:0' shape=(26667, 320) dtype=float32>\n",
            "  <tf.Variable 'Embeddings/sharded_12:0' shape=(26667, 320) dtype=float32>\n",
            "  <tf.Variable 'Embeddings/sharded_11:0' shape=(26667, 320) dtype=float32>\n",
            "  <tf.Variable 'Embeddings/sharded_10:0' shape=(26667, 320) dtype=float32>\n",
            "  <tf.Variable 'Embeddings/sharded_9:0' shape=(26667, 320) dtype=float32>\n",
            "  <tf.Variable 'Embeddings/sharded_8:0' shape=(26667, 320) dtype=float32>\n",
            "  <tf.Variable 'Embeddings/sharded_7:0' shape=(26667, 320) dtype=float32>\n",
            "  <tf.Variable 'Embeddings/sharded_6:0' shape=(26667, 320) dtype=float32>\n",
            "  <tf.Variable 'Embeddings/sharded_5:0' shape=(26667, 320) dtype=float32>\n",
            "  <tf.Variable 'Embeddings/sharded_4:0' shape=(26667, 320) dtype=float32>\n",
            "  <tf.Variable 'Embeddings/sharded_3:0' shape=(26667, 320) dtype=float32>\n",
            "  <tf.Variable 'Embeddings/sharded_2:0' shape=(26667, 320) dtype=float32>\n",
            "  <tf.Variable 'Embeddings/sharded_1:0' shape=(26667, 320) dtype=float32>\n",
            "  <tf.Variable 'Embeddings/sharded_0:0' shape=(26667, 320) dtype=float32>\n",
            "It is possible that this is intended behavior, but it is more likely\n",
            "an omission. This is a strong indication that this layer should be\n",
            "formulated as a subclassed Layer rather than a Lambda layer.\n"
          ]
        },
        {
          "output_type": "stream",
          "name": "stdout",
          "text": [
            "Model: \"model_1\"\n",
            "_________________________________________________________________\n",
            " Layer (type)                Output Shape              Param #   \n",
            "=================================================================\n",
            " input_2 (InputLayer)        [(None, 1)]               0         \n",
            "                                                                 \n",
            " lambda_1 (Lambda)           (None, 512)               0         \n",
            "                                                                 \n",
            " dense (Dense)               (None, 1)                 513       \n",
            "                                                                 \n",
            "=================================================================\n",
            "Total params: 513\n",
            "Trainable params: 513\n",
            "Non-trainable params: 0\n",
            "_________________________________________________________________\n"
          ]
        }
      ]
    },
    {
      "cell_type": "code",
      "metadata": {
        "id": "rchC7jEl-804",
        "colab": {
          "base_uri": "https://localhost:8080/"
        },
        "outputId": "e1628716-2e91-4157-b686-b08c40ccab02"
      },
      "source": [
        "#@title Train the Linear model on the dataset.\n",
        "history = model.fit(x_train, y_train, epochs=2, batch_size=128, validation_data=(x_validation, y_validation))\n",
        "model.save(\"./linear_model.h5\")"
      ],
      "execution_count": null,
      "outputs": [
        {
          "output_type": "stream",
          "name": "stdout",
          "text": [
            "Epoch 1/2\n",
            "998/998 [==============================] - 171s 172ms/step - loss: 0.1786 - accuracy: 0.9397 - val_loss: 0.1670 - val_accuracy: 0.9433\n",
            "Epoch 2/2\n",
            "998/998 [==============================] - 179s 180ms/step - loss: 0.1616 - accuracy: 0.9432 - val_loss: 0.1547 - val_accuracy: 0.9456\n"
          ]
        }
      ]
    },
    {
      "cell_type": "code",
      "metadata": {
        "id": "aeL7SAnv_B08",
        "colab": {
          "base_uri": "https://localhost:8080/"
        },
        "outputId": "e878d053-6e57-445b-91a8-c841ff1b3334"
      },
      "source": [
        "#@title Check that the weights have been saved.\n",
        "!ls -alh | grep linear_model.h5"
      ],
      "execution_count": null,
      "outputs": [
        {
          "output_type": "stream",
          "name": "stdout",
          "text": [
            "-rw-r--r-- 1 root root  27K Apr 20 07:18 linear_model.h5\n"
          ]
        }
      ]
    },
    {
      "cell_type": "code",
      "metadata": {
        "id": "3NGjlBmu_EqT",
        "colab": {
          "base_uri": "https://localhost:8080/"
        },
        "outputId": "aea2a858-f2b3-46b0-b83a-f40102bdfd50"
      },
      "source": [
        "new_text = [\"Totally non toxic sentence !\", \"What the hell, can't you do anything right?\", \"Yeah right, this is totally normal.\"]\n",
        "new_text = np.array(new_text, dtype=object)[:, np.newaxis]\n",
        "model.load_weights(\"./linear_model.h5\")\n",
        "sample_predictions = model.predict(new_text, batch_size=32)\n",
        "validation_predictions = model.predict(x_validation, batch_size=32)\n",
        "print(\"Toxicity for sample inputs = {}\".format(sample_predictions))"
      ],
      "execution_count": null,
      "outputs": [
        {
          "output_type": "stream",
          "name": "stdout",
          "text": [
            "Toxicity for sample inputs = [[0.3257512 ]\n",
            " [0.842052  ]\n",
            " [0.28465563]]\n"
          ]
        }
      ]
    },
    {
      "cell_type": "code",
      "metadata": {
        "id": "8CEIMoDB_LFH",
        "colab": {
          "base_uri": "https://localhost:8080/",
          "height": 323
        },
        "outputId": "080ca59a-72c1-4627-cdb7-aace1f5c4ecb"
      },
      "source": [
        "plot_pr_curve(y_validation, validation_predictions)"
      ],
      "execution_count": null,
      "outputs": [
        {
          "output_type": "stream",
          "name": "stdout",
          "text": [
            "AUC of the model = 0.7536538861760743\n"
          ]
        },
        {
          "output_type": "display_data",
          "data": {
            "text/plain": [
              "<Figure size 432x288 with 1 Axes>"
            ],
            "image/png": "[encoded data removed]"
          },
          "metadata": {}
        }
      ]
    }
  ]
}